{
  "cells": [
    {
      "cell_type": "raw",
      "metadata": {},
      "source": [
        "---\n",
        "title: \"Test_Jupyter\"\n",
        "format: revealjs\n",
        "editor: visual\n",
        "---"
      ],
      "id": "c1a31988"
    },
    {
      "cell_type": "markdown",
      "metadata": {},
      "source": [
        "## Using plotly\n",
        "\n",
        "## Using plotly\n"
      ],
      "id": "eea58360"
    },
    {
      "cell_type": "code",
      "metadata": {},
      "source": [
        "import plotly.express as px\n",
        "import plotly.io as pio\n",
        "df = px.data.iris()\n",
        "fig = px.scatter(df, x=\"sepal_width\", y=\"sepal_length\", color=\"species\")\n",
        "fig.show()"
      ],
      "id": "f26e83c3",
      "execution_count": null,
      "outputs": []
    }
  ],
  "metadata": {
    "kernelspec": {
      "display_name": "Python 3",
      "language": "python",
      "name": "python3"
    }
  },
  "nbformat": 4,
  "nbformat_minor": 5
}