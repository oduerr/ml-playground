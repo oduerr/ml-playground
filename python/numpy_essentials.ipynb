{
 "cells": [
  {
   "cell_type": "markdown",
   "metadata": {
    "deletable": true,
    "editable": true
   },
   "source": [
    "## A Collection of usefull bit&pices for numpy [Work in progress]\n",
    "For someone comming from java, R"
   ]
  },
  {
   "cell_type": "code",
   "execution_count": 1,
   "metadata": {
    "collapsed": true,
    "deletable": true,
    "editable": true,
    "ExecuteTime": {
     "start_time": "2023-05-09T17:23:06.005164Z",
     "end_time": "2023-05-09T17:23:09.627001Z"
    }
   },
   "outputs": [],
   "source": [
    "import numpy as np"
   ]
  },
  {
   "cell_type": "code",
   "execution_count": 2,
   "metadata": {
    "collapsed": false,
    "deletable": true,
    "editable": true,
    "ExecuteTime": {
     "start_time": "2023-05-09T17:23:09.632040Z",
     "end_time": "2023-05-09T17:23:09.634550Z"
    }
   },
   "outputs": [
    {
     "data": {
      "text/plain": "(dtype('float64'), (3,))"
     },
     "execution_count": 2,
     "metadata": {},
     "output_type": "execute_result"
    }
   ],
   "source": [
    "d = np.asarray((0,1.0,-1.0))\n",
    "d.dtype, d.shape"
   ]
  },
  {
   "cell_type": "markdown",
   "metadata": {
    "deletable": true,
    "editable": true
   },
   "source": [
    "#### Sorting, max, mean\n",
    "Note the d[::-1] reverses the order"
   ]
  },
  {
   "cell_type": "code",
   "execution_count": 3,
   "metadata": {
    "collapsed": false,
    "deletable": true,
    "editable": true
   },
   "outputs": [
    {
     "data": {
      "text/plain": [
       "(array([-1.,  0.,  1.]),\n",
       " 1.0,\n",
       " -1.0,\n",
       " 0.0,\n",
       " 0.66666666666666663,\n",
       " array([ 1.,  0., -1.]))"
      ]
     },
     "execution_count": 3,
     "metadata": {},
     "output_type": "execute_result"
    }
   ],
   "source": [
    "# Does an inplace sorting\n",
    "dd = np.copy(d) #Cloning\n",
    "dd.sort() #Note that the sorting is done in place\n",
    "dd, dd.max(), dd.min(), dd.mean(), dd.var(), dd[::-1]"
   ]
  },
  {
   "cell_type": "markdown",
   "metadata": {
    "deletable": true,
    "editable": true
   },
   "source": [
    "#### Getting the sorted indices"
   ]
  },
  {
   "cell_type": "code",
   "execution_count": 4,
   "metadata": {
    "collapsed": false,
    "deletable": true,
    "editable": true
   },
   "outputs": [
    {
     "name": "stdout",
     "output_type": "stream",
     "text": [
      "(array([2, 0, 1]), 1)\n",
      "((2, 3), 5)\n"
     ]
    },
    {
     "data": {
      "text/plain": [
       "(3,)"
      ]
     },
     "execution_count": 4,
     "metadata": {},
     "output_type": "execute_result"
    }
   ],
   "source": [
    "print(d.argsort(), d.argmax())\n",
    "m = np.asarray(((2,3,4),(5,4,5)))\n",
    "print(m.shape, m.max())\n",
    "m.argmax(),#m[m.argmax()] does not work"
   ]
  }
 ],
 "metadata": {
  "kernelspec": {
   "display_name": "Python 3",
   "language": "python",
   "name": "python3"
  },
  "language_info": {
   "codemirror_mode": {
    "name": "ipython",
    "version": 3
   },
   "file_extension": ".py",
   "mimetype": "text/x-python",
   "name": "python",
   "nbconvert_exporter": "python",
   "pygments_lexer": "ipython3",
   "version": "3.4.3"
  }
 },
 "nbformat": 4,
 "nbformat_minor": 0
}
