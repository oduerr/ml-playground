{
 "cells": [
  {
   "cell_type": "code",
   "execution_count": 15,
   "metadata": {},
   "outputs": [],
   "source": [
    "import tensorflow as tf\n",
    "\n",
    "# Define your model and loss function\n",
    "model = tf.keras.Sequential([\n",
    "    tf.keras.layers.Dense(10, activation='relu', name='first_layer'),\n",
    "    tf.keras.layers.Dense(1, name='output')\n",
    "])\n",
    "\n",
    "# Build the model\n",
    "model.build(input_shape=(None, 5))\n",
    "# Compile the model (optional, if you plan to use high-level training APIs)\n",
    "model.compile(optimizer='adam', loss='mse')\n",
    "\n",
    "\n",
    "# Define input and target\n",
    "x = tf.random.normal((1, 5))\n",
    "y = tf.random.normal((1, 1))\n",
    "\n",
    "\n",
    "# Select the variables you want to compute second-order derivatives for\n",
    "selected_vars = model.layers[0].trainable_variables  # Only first layer's weights"
   ]
  },
  {
   "cell_type": "code",
   "execution_count": 16,
   "metadata": {},
   "outputs": [
    {
     "data": {
      "text/plain": [
       "[<KerasVariable shape=(5, 10), dtype=float32, path=sequential_4/first_layer/kernel>,\n",
       " <KerasVariable shape=(10,), dtype=float32, path=sequential_4/first_layer/bias>]"
      ]
     },
     "execution_count": 16,
     "metadata": {},
     "output_type": "execute_result"
    }
   ],
   "source": [
    "model.layers[0].trainable_variables"
   ]
  },
  {
   "cell_type": "code",
   "execution_count": null,
   "metadata": {},
   "outputs": [],
   "source": []
  }
 ],
 "metadata": {
  "kernelspec": {
   "display_name": "mldl_htwg",
   "language": "python",
   "name": "python3"
  },
  "language_info": {
   "codemirror_mode": {
    "name": "ipython",
    "version": 3
   },
   "file_extension": ".py",
   "mimetype": "text/x-python",
   "name": "python",
   "nbconvert_exporter": "python",
   "pygments_lexer": "ipython3",
   "version": "3.10.13"
  }
 },
 "nbformat": 4,
 "nbformat_minor": 2
}
