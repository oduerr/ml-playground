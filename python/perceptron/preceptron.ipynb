{
  "nbformat": 4,
  "nbformat_minor": 0,
  "metadata": {
    "colab": {
      "name": "Preceptron.ipynb",
      "version": "0.3.2",
      "provenance": [],
      "collapsed_sections": []
    },
    "kernelspec": {
      "name": "python3",
      "display_name": "Python 3"
    }
  },
  "cells": [
    {
      "metadata": {
        "id": "ymQb2almQi9F",
        "colab_type": "text"
      },
      "cell_type": "markdown",
      "source": [
        "### The Prezeptron\n",
        "\n",
        "<a href=\"https://colab.research.google.com/github/oduerr/ml-playground/blob/master/python/perceptron/preceptron.ipynb\">\n",
        "<img align=\"left\" src=\"https://colab.research.google.com/assets/colab-badge.svg\" alt=\"Open in Colab\" title=\"Open and Execute in Google Colaboratory\"></a> \n",
        "\n",
        ".  | [Open in github](https://github.com/oduerr/ml-playground/blob/master/python/perceptron/preceptron.ipynb) "
      ]
    },
    {
      "metadata": {
        "id": "Qa1PzZF6VIJS",
        "colab_type": "code",
        "outputId": "a7e03362-4802-4ec1-e59b-b3b7ca2bf6d1",
        "colab": {
          "base_uri": "https://localhost:8080/",
          "height": 282
        }
      },
      "cell_type": "code",
      "source": [
        "import random\n",
        "from sklearn.datasets import make_classification\n",
        "import numpy as np\n",
        "import matplotlib.pyplot as plt\n",
        "from matplotlib.colors import ListedColormap\n",
        "\n",
        "# training data\n",
        "random.seed(42)\n",
        "X, y = make_classification(n_samples=20, n_features=2, n_redundant=0, n_informative=2,\n",
        "    random_state=random.randint(0,1000), n_clusters_per_class=1, class_sep=2.0)\n",
        "rng = np.random.RandomState(2)\n",
        "X += 2 * rng.uniform(size=X.shape)\n",
        "n = np.shape(X)[0] # number of data points\n",
        "y[y==0] = -1\n",
        "\n",
        "\n",
        "# Plotting of the training data\n",
        "%matplotlib inline\n",
        "plt.viridis()\n",
        "plt.scatter(X[:, 0], X[:, 1], c=y)"
      ],
      "execution_count": 0,
      "outputs": [
        {
          "output_type": "execute_result",
          "data": {
            "text/plain": [
              "<matplotlib.collections.PathCollection at 0x7f0254c23908>"
            ]
          },
          "metadata": {
            "tags": []
          },
          "execution_count": 19
        },
        {
          "output_type": "display_data",
          "data": {
            "image/png": "[encoded data removed]",
            "text/plain": [
              "<matplotlib.figure.Figure at 0x7f0254d0af28>"
            ]
          },
          "metadata": {
            "tags": []
          }
        }
      ]
    },
    {
      "metadata": {
        "id": "wTEo8G4FuDVD",
        "colab_type": "code",
        "colab": {}
      },
      "cell_type": "code",
      "source": [
        ""
      ],
      "execution_count": 0,
      "outputs": []
    }
  ]
}