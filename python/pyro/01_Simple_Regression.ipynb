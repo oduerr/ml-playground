{
 "cells": [
  {
   "cell_type": "markdown",
   "source": [
    "# Introduction to pyro\n",
    "Taken from: https://pyro.ai/examples/intro_long.html\n",
    "\n",
    "### Terms pyro lingo\n",
    "\n",
    "#### Variables and Parameters\n",
    "\n",
    "* Random Variables `pyro.sample`\n",
    "* Observed Random Variables `pyro.sample`\n",
    "* Parameters (non-random) variables (e.g. variational parameters) `pyro.param`\n"
   ],
   "metadata": {
    "collapsed": false
   }
  },
  {
   "cell_type": "markdown",
   "source": [
    "#### Example Linear Regression\n",
    "\n",
    "This is the ruggness in afric example given in stat. rethinking. Note we are first doing non-Bayesian linear regression.\n",
    "\n",
    "Taken from https://pyro.ai/examples/intro_long.html#Example:-Geography-and-national-income"
   ],
   "metadata": {
    "collapsed": false
   }
  },
  {
   "cell_type": "code",
   "source": [
    "from pyro.distributions import LogNormal, Categorical, MultivariateNormal, Normal\n",
    "import logging\n",
    "import os\n",
    "\n",
    "import torch\n",
    "import numpy as np\n",
    "import pandas as pd\n",
    "import seaborn as sns\n",
    "import matplotlib.pyplot as plt\n",
    "\n",
    "import pyro"
   ],
   "outputs": [],
   "execution_count": 19,
   "metadata": {
    "collapsed": false,
    "ExecuteTime": {
     "start_time": "2023-05-10T08:13:23.638996Z",
     "end_time": "2023-05-10T08:13:23.654406Z"
    }
   }
  },
  {
   "cell_type": "code",
   "source": [
    "DATA_URL = \"https://d2hg8soec8ck9v.cloudfront.net/datasets/rugged_data.csv\"\n",
    "data = pd.read_csv(DATA_URL, encoding=\"ISO-8859-1\")\n",
    "df = data[[\"cont_africa\", \"rugged\", \"rgdppc_2000\"]]"
   ],
   "outputs": [],
   "execution_count": 20,
   "metadata": {
    "collapsed": false,
    "ExecuteTime": {
     "start_time": "2023-05-10T08:13:24.070380Z",
     "end_time": "2023-05-10T08:13:24.340219Z"
    }
   }
  },
  {
   "cell_type": "code",
   "source": [
    "df = df[np.isfinite(df.rgdppc_2000)]\n",
    "df[\"rgdppc_2000\"] = np.log(df[\"rgdppc_2000\"])"
   ],
   "outputs": [],
   "execution_count": 26,
   "metadata": {
    "collapsed": false,
    "ExecuteTime": {
     "start_time": "2023-05-10T08:13:47.117660Z",
     "end_time": "2023-05-10T08:13:47.120950Z"
    }
   }
  },
  {
   "cell_type": "code",
   "execution_count": 27,
   "outputs": [
    {
     "data": {
      "text/plain": "   cont_africa  rugged  rgdppc_2000\n2            1   0.858     0.700082\n4            0   3.427     0.744884\n7            0   0.769     0.831120\n8            0   0.775     0.807126\n9            0   2.688     0.719371",
      "text/html": "<div>\n<style scoped>\n    .dataframe tbody tr th:only-of-type {\n        vertical-align: middle;\n    }\n\n    .dataframe tbody tr th {\n        vertical-align: top;\n    }\n\n    .dataframe thead th {\n        text-align: right;\n    }\n</style>\n<table border=\"1\" class=\"dataframe\">\n  <thead>\n    <tr style=\"text-align: right;\">\n      <th></th>\n      <th>cont_africa</th>\n      <th>rugged</th>\n      <th>rgdppc_2000</th>\n    </tr>\n  </thead>\n  <tbody>\n    <tr>\n      <th>2</th>\n      <td>1</td>\n      <td>0.858</td>\n      <td>0.700082</td>\n    </tr>\n    <tr>\n      <th>4</th>\n      <td>0</td>\n      <td>3.427</td>\n      <td>0.744884</td>\n    </tr>\n    <tr>\n      <th>7</th>\n      <td>0</td>\n      <td>0.769</td>\n      <td>0.831120</td>\n    </tr>\n    <tr>\n      <th>8</th>\n      <td>0</td>\n      <td>0.775</td>\n      <td>0.807126</td>\n    </tr>\n    <tr>\n      <th>9</th>\n      <td>0</td>\n      <td>2.688</td>\n      <td>0.719371</td>\n    </tr>\n  </tbody>\n</table>\n</div>"
     },
     "execution_count": 27,
     "metadata": {},
     "output_type": "execute_result"
    }
   ],
   "source": [
    "df.head()"
   ],
   "metadata": {
    "collapsed": false,
    "ExecuteTime": {
     "start_time": "2023-05-10T08:13:48.101771Z",
     "end_time": "2023-05-10T08:13:48.108101Z"
    }
   }
  },
  {
   "cell_type": "code",
   "source": [
    "train = torch.tensor(df.values, dtype=torch.float)\n",
    "is_cont_africa, ruggedness, log_gdp = train[:, 0], train[:, 1], train[:, 2]"
   ],
   "outputs": [],
   "execution_count": 28,
   "metadata": {
    "collapsed": false,
    "ExecuteTime": {
     "start_time": "2023-05-10T08:13:51.571103Z",
     "end_time": "2023-05-10T08:13:51.589735Z"
    }
   }
  },
  {
   "cell_type": "code",
   "source": [
    "import pyro.distributions as dist\n",
    "import pyro.distributions.constraints as constraints\n",
    "\n",
    "def simple_model(is_cont_africa, ruggedness, log_gdp=None):\n",
    "    a = pyro.param(\"a\", lambda: torch.randn(())) #We initialize with random\n",
    "    b_a = pyro.param(\"bA\", lambda: torch.randn(()))\n",
    "    b_r = pyro.param(\"bR\", lambda: torch.randn(()))\n",
    "    b_ar = pyro.param(\"bAR\", lambda: torch.randn(()))\n",
    "    sigma = pyro.param(\"sigma\", lambda: torch.ones(()), constraint=constraints.positive)\n",
    "\n",
    "    mean = a + b_a * is_cont_africa + b_r * ruggedness + b_ar * is_cont_africa * ruggedness\n",
    "\n",
    "    with pyro.plate(\"data\", len(ruggedness)):\n",
    "        return pyro.sample(\"obs\", dist.Normal(mean, sigma), obs=log_gdp)\n",
    "\n",
    "#render_parameters=True not working in the current installation\n",
    "#pyro.render_model(simple_model, model_args=(is_cont_africa, ruggedness, log_gdp))"
   ],
   "outputs": [],
   "execution_count": 32,
   "metadata": {
    "collapsed": false,
    "ExecuteTime": {
     "start_time": "2023-05-10T08:25:12.622691Z",
     "end_time": "2023-05-10T08:25:12.633473Z"
    }
   }
  },
  {
   "cell_type": "markdown",
   "source": [
    "### Sampling or posterior evaluation"
   ],
   "metadata": {
    "collapsed": false
   }
  },
  {
   "cell_type": "markdown",
   "source": [
    "Calling the simple_model without an argument, finally calls\n",
    "\n",
    "```\n",
    " return pyro.sample(\"obs\", dist.Normal(mean, sigma), obs=log_gdp)\n",
    "```\n",
    "\n",
    "If `log_gdp=None` than a sample is drawn. Therefore, you get different results for the two calls below"
   ],
   "metadata": {
    "collapsed": false
   }
  },
  {
   "cell_type": "code",
   "source": [
    "simple_model(is_cont_africa, ruggedness)[0:3],simple_model(is_cont_africa, ruggedness)[0:3]"
   ],
   "outputs": [
    {
     "data": {
      "text/plain": "(tensor([ 0.3233,  1.6264, -0.6370], grad_fn=<SliceBackward0>),\n tensor([0.0593, 4.2755, 0.9525], grad_fn=<SliceBackward0>))"
     },
     "execution_count": 33,
     "metadata": {},
     "output_type": "execute_result"
    }
   ],
   "execution_count": 33,
   "metadata": {
    "collapsed": false,
    "ExecuteTime": {
     "start_time": "2023-05-10T08:25:16.860089Z",
     "end_time": "2023-05-10T08:25:16.873789Z"
    }
   }
  },
  {
   "cell_type": "code",
   "source": [
    "simple_model(is_cont_africa, ruggedness, log_gdp)[0:3],simple_model(is_cont_africa, ruggedness, log_gdp)[0:3] #Calcluates the posterior"
   ],
   "outputs": [
    {
     "data": {
      "text/plain": "(tensor([0.7001, 0.7449, 0.8311]), tensor([0.7001, 0.7449, 0.8311]))"
     },
     "execution_count": 34,
     "metadata": {},
     "output_type": "execute_result"
    }
   ],
   "execution_count": 34,
   "metadata": {
    "collapsed": false,
    "ExecuteTime": {
     "start_time": "2023-05-10T08:25:20.197447Z",
     "end_time": "2023-05-10T08:25:20.203778Z"
    }
   }
  },
  {
   "cell_type": "markdown",
   "source": [
    "### Persistence of parameters\n",
    "\n",
    "The parameters are values that need to be updated by an external optimization or so. Therefore they are stored in a central place and\n",
    "`pyro.param` values persist across model calls, unless the parameter store is updated by an optimization algorithm or cleared via `pyro.clear_param_store()`.\n"
   ],
   "metadata": {
    "collapsed": false
   }
  },
  {
   "cell_type": "code",
   "source": [
    "pyro.get_param_store().get_param('bA'),pyro.get_param_store().get_param('bA')"
   ],
   "outputs": [
    {
     "data": {
      "text/plain": "(tensor(-0.1517, requires_grad=True), tensor(-0.1517, requires_grad=True))"
     },
     "execution_count": 35,
     "metadata": {},
     "output_type": "execute_result"
    }
   ],
   "execution_count": 35,
   "metadata": {
    "collapsed": false,
    "ExecuteTime": {
     "start_time": "2023-05-10T08:25:26.529998Z",
     "end_time": "2023-05-10T08:25:26.535743Z"
    }
   }
  },
  {
   "cell_type": "markdown",
   "source": [
    "### The plate statement"
   ],
   "metadata": {
    "collapsed": false
   }
  },
  {
   "cell_type": "markdown",
   "source": [
    "Think of plates as for loops. But internaly pyro uses thinks like broadcasting happens for parallel excecution and the stuff is fast as hell."
   ],
   "metadata": {
    "collapsed": false
   }
  },
  {
   "cell_type": "markdown",
   "source": [
    "### Going Bayesian\n",
    "Just replace the parameters variables (`pyro.sample`)"
   ],
   "metadata": {
    "collapsed": false
   }
  },
  {
   "cell_type": "code",
   "source": [
    "def model(is_cont_africa, ruggedness, log_gdp=None):\n",
    "    a = pyro.sample(\"a\", dist.Normal(0., 10.))\n",
    "    b_a = pyro.sample(\"bA\", dist.Normal(0., 1.))\n",
    "    b_r = pyro.sample(\"bR\", dist.Normal(0., 1.))\n",
    "    b_ar = pyro.sample(\"bAR\", dist.Normal(0., 1.))\n",
    "    sigma = pyro.sample(\"sigma\", dist.Uniform(0., 10.))\n",
    "\n",
    "    mean = a + b_a * is_cont_africa + b_r * ruggedness + b_ar * is_cont_africa * ruggedness\n",
    "\n",
    "    with pyro.plate(\"data\", len(ruggedness)):\n",
    "        return pyro.sample(\"obs\", dist.Normal(mean, sigma), obs=log_gdp)\n",
    "\n",
    "#pyro.render_model(model, model_args=(is_cont_africa, ruggedness, log_gdp), render_distributions=True)"
   ],
   "outputs": [],
   "execution_count": 46,
   "metadata": {
    "collapsed": false,
    "ExecuteTime": {
     "start_time": "2023-05-10T08:29:17.758653Z",
     "end_time": "2023-05-10T08:29:17.761609Z"
    }
   }
  },
  {
   "cell_type": "code",
   "execution_count": 47,
   "outputs": [
    {
     "data": {
      "text/plain": "(tensor([-3.8702, -3.3012, -2.7912], grad_fn=<SliceBackward0>),\n tensor([-4.2957, -6.2677, -3.5680], grad_fn=<SliceBackward0>))"
     },
     "execution_count": 47,
     "metadata": {},
     "output_type": "execute_result"
    }
   ],
   "source": [
    "simple_model(is_cont_africa, ruggedness)[0:3],simple_model(is_cont_africa, ruggedness)[0:3]"
   ],
   "metadata": {
    "collapsed": false,
    "ExecuteTime": {
     "start_time": "2023-05-10T08:29:18.056788Z",
     "end_time": "2023-05-10T08:29:18.061501Z"
    }
   }
  },
  {
   "cell_type": "code",
   "execution_count": 48,
   "outputs": [
    {
     "data": {
      "text/plain": "(tensor([0.7001, 0.7449, 0.8311]), tensor([0.7001, 0.7449, 0.8311]))"
     },
     "execution_count": 48,
     "metadata": {},
     "output_type": "execute_result"
    }
   ],
   "source": [
    "simple_model(is_cont_africa, ruggedness, log_gdp)[0:3],simple_model(is_cont_africa, ruggedness, log_gdp)[0:3]"
   ],
   "metadata": {
    "collapsed": false,
    "ExecuteTime": {
     "start_time": "2023-05-10T08:29:18.508848Z",
     "end_time": "2023-05-10T08:29:18.512655Z"
    }
   }
  },
  {
   "cell_type": "markdown",
   "source": [
    "# Variational Inference and Guides\n",
    "\n",
    "The variational distribtion has to be defined in a guide. It needs to provide a valid joint probability for all random variables present in the model. The names of the random variables in a guide  need to match.\n",
    "\n",
    "```\n",
    "def model():\n",
    "    pyro.sample(\"z_1\", ...) #<-- z_1\n",
    "```\n",
    "\n",
    "The variables\n",
    "```\n",
    "def guide():\n",
    "    z_1_loc = pyro.param('z1_loc', lambda: torch.tensor(0.))\n",
    "    z_1_scale = pyro.param('z1_scale', lambda: torch.tensor(1.),\n",
    "                         constraint=constraints.positive)\n",
    "    pyro.sample(\"z_1\", dist.Normal(z_1_loc, z_1_scale) )#<-- z_1\n",
    "```\n",
    "\n",
    "The variables are described by one or more variational parameters."
   ],
   "metadata": {
    "collapsed": false
   }
  },
  {
   "cell_type": "code",
   "execution_count": 49,
   "outputs": [],
   "source": [
    "def custom_guide(is_cont_africa, ruggedness, log_gdp=None):\n",
    "    a_loc = pyro.param('a_loc', lambda: torch.tensor(0.))\n",
    "    a_scale = pyro.param('a_scale', lambda: torch.tensor(1.),\n",
    "                         constraint=constraints.positive)\n",
    "    sigma_loc = pyro.param('sigma_loc', lambda: torch.tensor(1.),\n",
    "                             constraint=constraints.positive)\n",
    "    weights_loc = pyro.param('weights_loc', lambda: torch.randn(3))\n",
    "    weights_scale = pyro.param('weights_scale', lambda: torch.ones(3),\n",
    "                               constraint=constraints.positive)\n",
    "    a = pyro.sample(\"a\", dist.Normal(a_loc, a_scale))\n",
    "    b_a = pyro.sample(\"bA\", dist.Normal(weights_loc[0], weights_scale[0]))\n",
    "    b_r = pyro.sample(\"bR\", dist.Normal(weights_loc[1], weights_scale[1]))\n",
    "    b_ar = pyro.sample(\"bAR\", dist.Normal(weights_loc[2], weights_scale[2]))\n",
    "    sigma = pyro.sample(\"sigma\", dist.Normal(sigma_loc, torch.tensor(0.05)))\n",
    "    return {\"a\": a, \"b_a\": b_a, \"b_r\": b_r, \"b_ar\": b_ar, \"sigma\": sigma}\n",
    "\n",
    "#pyro.render_model(custom_guide, model_args=(is_cont_africa, ruggedness, log_gdp), render_params=True)"
   ],
   "metadata": {
    "collapsed": false,
    "ExecuteTime": {
     "start_time": "2023-05-10T08:29:19.542097Z",
     "end_time": "2023-05-10T08:29:19.548592Z"
    }
   }
  },
  {
   "cell_type": "markdown",
   "source": [
    "#### Inference"
   ],
   "metadata": {
    "collapsed": false
   }
  },
  {
   "cell_type": "code",
   "execution_count": 50,
   "outputs": [
    {
     "ename": "ValueError",
     "evalue": "Expected parameter scale (Tensor of shape (170,)) of distribution Normal(loc: torch.Size([170]), scale: torch.Size([170])) to satisfy the constraint GreaterThan(lower_bound=0.0), but found invalid values:\ntensor([-0.0096, -0.0096, -0.0096, -0.0096, -0.0096, -0.0096, -0.0096, -0.0096,\n        -0.0096, -0.0096, -0.0096, -0.0096, -0.0096, -0.0096, -0.0096, -0.0096,\n        -0.0096, -0.0096, -0.0096, -0.0096, -0.0096, -0.0096, -0.0096, -0.0096,\n        -0.0096, -0.0096, -0.0096, -0.0096, -0.0096, -0.0096, -0.0096, -0.0096,\n        -0.0096, -0.0096, -0.0096, -0.0096, -0.0096, -0.0096, -0.0096, -0.0096,\n        -0.0096, -0.0096, -0.0096, -0.0096, -0.0096, -0.0096, -0.0096, -0.0096,\n        -0.0096, -0.0096, -0.0096, -0.0096, -0.0096, -0.0096, -0.0096, -0.0096,\n        -0.0096, -0.0096, -0.0096, -0.0096, -0.0096, -0.0096, -0.0096, -0.0096,\n        -0.0096, -0.0096, -0.0096, -0.0096, -0.0096, -0.0096, -0.0096, -0.0096,\n        -0.0096, -0.0096, -0.0096, -0.0096, -0.0096, -0.0096, -0.0096, -0.0096,\n        -0.0096, -0.0096, -0.0096, -0.0096, -0.0096, -0.0096, -0.0096, -0.0096,\n        -0.0096, -0.0096, -0.0096, -0.0096, -0.0096, -0.0096, -0.0096, -0.0096,\n        -0.0096, -0.0096, -0.0096, -0.0096, -0.0096, -0.0096, -0.0096, -0.0096,\n        -0.0096, -0.0096, -0.0096, -0.0096, -0.0096, -0.0096, -0.0096, -0.0096,\n        -0.0096, -0.0096, -0.0096, -0.0096, -0.0096, -0.0096, -0.0096, -0.0096,\n        -0.0096, -0.0096, -0.0096, -0.0096, -0.0096, -0.0096, -0.0096, -0.0096,\n        -0.0096, -0.0096, -0.0096, -0.0096, -0.0096, -0.0096, -0.0096, -0.0096,\n        -0.0096, -0.0096, -0.0096, -0.0096, -0.0096, -0.0096, -0.0096, -0.0096,\n        -0.0096, -0.0096, -0.0096, -0.0096, -0.0096, -0.0096, -0.0096, -0.0096,\n        -0.0096, -0.0096, -0.0096, -0.0096, -0.0096, -0.0096, -0.0096, -0.0096,\n        -0.0096, -0.0096, -0.0096, -0.0096, -0.0096, -0.0096, -0.0096, -0.0096,\n        -0.0096, -0.0096], grad_fn=<ExpandBackward0>)\nTrace Shapes:      \n Param Sites:      \nSample Sites:      \n       a dist     |\n        value     |\n      bA dist     |\n        value     |\n      bR dist     |\n        value     |\n     bAR dist     |\n        value     |\n   sigma dist     |\n        value     |\n    data dist     |\n        value 170 |",
     "output_type": "error",
     "traceback": [
      "\u001B[0;31m---------------------------------------------------------------------------\u001B[0m",
      "\u001B[0;31mValueError\u001B[0m                                Traceback (most recent call last)",
      "File \u001B[0;32m~/Documents/GitHub/ml-playground/venv/lib/python3.9/site-packages/pyro/poutine/trace_messenger.py:174\u001B[0m, in \u001B[0;36mTraceHandler.__call__\u001B[0;34m(self, *args, **kwargs)\u001B[0m\n\u001B[1;32m    173\u001B[0m \u001B[38;5;28;01mtry\u001B[39;00m:\n\u001B[0;32m--> 174\u001B[0m     ret \u001B[38;5;241m=\u001B[39m \u001B[38;5;28;43mself\u001B[39;49m\u001B[38;5;241;43m.\u001B[39;49m\u001B[43mfn\u001B[49m\u001B[43m(\u001B[49m\u001B[38;5;241;43m*\u001B[39;49m\u001B[43margs\u001B[49m\u001B[43m,\u001B[49m\u001B[43m \u001B[49m\u001B[38;5;241;43m*\u001B[39;49m\u001B[38;5;241;43m*\u001B[39;49m\u001B[43mkwargs\u001B[49m\u001B[43m)\u001B[49m\n\u001B[1;32m    175\u001B[0m \u001B[38;5;28;01mexcept\u001B[39;00m (\u001B[38;5;167;01mValueError\u001B[39;00m, \u001B[38;5;167;01mRuntimeError\u001B[39;00m) \u001B[38;5;28;01mas\u001B[39;00m e:\n",
      "File \u001B[0;32m~/Documents/GitHub/ml-playground/venv/lib/python3.9/site-packages/pyro/poutine/messenger.py:12\u001B[0m, in \u001B[0;36m_context_wrap\u001B[0;34m(context, fn, *args, **kwargs)\u001B[0m\n\u001B[1;32m     11\u001B[0m \u001B[38;5;28;01mwith\u001B[39;00m context:\n\u001B[0;32m---> 12\u001B[0m     \u001B[38;5;28;01mreturn\u001B[39;00m \u001B[43mfn\u001B[49m\u001B[43m(\u001B[49m\u001B[38;5;241;43m*\u001B[39;49m\u001B[43margs\u001B[49m\u001B[43m,\u001B[49m\u001B[43m \u001B[49m\u001B[38;5;241;43m*\u001B[39;49m\u001B[38;5;241;43m*\u001B[39;49m\u001B[43mkwargs\u001B[49m\u001B[43m)\u001B[49m\n",
      "Cell \u001B[0;32mIn[46], line 11\u001B[0m, in \u001B[0;36mmodel\u001B[0;34m(is_cont_africa, ruggedness, log_gdp)\u001B[0m\n\u001B[1;32m     10\u001B[0m \u001B[38;5;28;01mwith\u001B[39;00m pyro\u001B[38;5;241m.\u001B[39mplate(\u001B[38;5;124m\"\u001B[39m\u001B[38;5;124mdata\u001B[39m\u001B[38;5;124m\"\u001B[39m, \u001B[38;5;28mlen\u001B[39m(ruggedness)):\n\u001B[0;32m---> 11\u001B[0m     \u001B[38;5;28;01mreturn\u001B[39;00m pyro\u001B[38;5;241m.\u001B[39msample(\u001B[38;5;124m\"\u001B[39m\u001B[38;5;124mobs\u001B[39m\u001B[38;5;124m\"\u001B[39m, \u001B[43mdist\u001B[49m\u001B[38;5;241;43m.\u001B[39;49m\u001B[43mNormal\u001B[49m\u001B[43m(\u001B[49m\u001B[43mmean\u001B[49m\u001B[43m,\u001B[49m\u001B[43m \u001B[49m\u001B[43msigma\u001B[49m\u001B[43m)\u001B[49m, obs\u001B[38;5;241m=\u001B[39mlog_gdp)\n",
      "File \u001B[0;32m~/Documents/GitHub/ml-playground/venv/lib/python3.9/site-packages/pyro/distributions/distribution.py:24\u001B[0m, in \u001B[0;36mDistributionMeta.__call__\u001B[0;34m(cls, *args, **kwargs)\u001B[0m\n\u001B[1;32m     23\u001B[0m         \u001B[38;5;28;01mreturn\u001B[39;00m result\n\u001B[0;32m---> 24\u001B[0m \u001B[38;5;28;01mreturn\u001B[39;00m \u001B[38;5;28;43msuper\u001B[39;49m\u001B[43m(\u001B[49m\u001B[43m)\u001B[49m\u001B[38;5;241;43m.\u001B[39;49m\u001B[38;5;21;43m__call__\u001B[39;49m\u001B[43m(\u001B[49m\u001B[38;5;241;43m*\u001B[39;49m\u001B[43margs\u001B[49m\u001B[43m,\u001B[49m\u001B[43m \u001B[49m\u001B[38;5;241;43m*\u001B[39;49m\u001B[38;5;241;43m*\u001B[39;49m\u001B[43mkwargs\u001B[49m\u001B[43m)\u001B[49m\n",
      "File \u001B[0;32m~/Documents/GitHub/ml-playground/venv/lib/python3.9/site-packages/torch/distributions/normal.py:56\u001B[0m, in \u001B[0;36mNormal.__init__\u001B[0;34m(self, loc, scale, validate_args)\u001B[0m\n\u001B[1;32m     55\u001B[0m     batch_shape \u001B[38;5;241m=\u001B[39m \u001B[38;5;28mself\u001B[39m\u001B[38;5;241m.\u001B[39mloc\u001B[38;5;241m.\u001B[39msize()\n\u001B[0;32m---> 56\u001B[0m \u001B[38;5;28;43msuper\u001B[39;49m\u001B[43m(\u001B[49m\u001B[43m)\u001B[49m\u001B[38;5;241;43m.\u001B[39;49m\u001B[38;5;21;43m__init__\u001B[39;49m\u001B[43m(\u001B[49m\u001B[43mbatch_shape\u001B[49m\u001B[43m,\u001B[49m\u001B[43m \u001B[49m\u001B[43mvalidate_args\u001B[49m\u001B[38;5;241;43m=\u001B[39;49m\u001B[43mvalidate_args\u001B[49m\u001B[43m)\u001B[49m\n",
      "File \u001B[0;32m~/Documents/GitHub/ml-playground/venv/lib/python3.9/site-packages/torch/distributions/distribution.py:62\u001B[0m, in \u001B[0;36mDistribution.__init__\u001B[0;34m(self, batch_shape, event_shape, validate_args)\u001B[0m\n\u001B[1;32m     61\u001B[0m         \u001B[38;5;28;01mif\u001B[39;00m \u001B[38;5;129;01mnot\u001B[39;00m valid\u001B[38;5;241m.\u001B[39mall():\n\u001B[0;32m---> 62\u001B[0m             \u001B[38;5;28;01mraise\u001B[39;00m \u001B[38;5;167;01mValueError\u001B[39;00m(\n\u001B[1;32m     63\u001B[0m                 \u001B[38;5;124mf\u001B[39m\u001B[38;5;124m\"\u001B[39m\u001B[38;5;124mExpected parameter \u001B[39m\u001B[38;5;132;01m{\u001B[39;00mparam\u001B[38;5;132;01m}\u001B[39;00m\u001B[38;5;124m \u001B[39m\u001B[38;5;124m\"\u001B[39m\n\u001B[1;32m     64\u001B[0m                 \u001B[38;5;124mf\u001B[39m\u001B[38;5;124m\"\u001B[39m\u001B[38;5;124m(\u001B[39m\u001B[38;5;132;01m{\u001B[39;00m\u001B[38;5;28mtype\u001B[39m(value)\u001B[38;5;241m.\u001B[39m\u001B[38;5;18m__name__\u001B[39m\u001B[38;5;132;01m}\u001B[39;00m\u001B[38;5;124m of shape \u001B[39m\u001B[38;5;132;01m{\u001B[39;00m\u001B[38;5;28mtuple\u001B[39m(value\u001B[38;5;241m.\u001B[39mshape)\u001B[38;5;132;01m}\u001B[39;00m\u001B[38;5;124m) \u001B[39m\u001B[38;5;124m\"\u001B[39m\n\u001B[1;32m     65\u001B[0m                 \u001B[38;5;124mf\u001B[39m\u001B[38;5;124m\"\u001B[39m\u001B[38;5;124mof distribution \u001B[39m\u001B[38;5;132;01m{\u001B[39;00m\u001B[38;5;28mrepr\u001B[39m(\u001B[38;5;28mself\u001B[39m)\u001B[38;5;132;01m}\u001B[39;00m\u001B[38;5;124m \u001B[39m\u001B[38;5;124m\"\u001B[39m\n\u001B[1;32m     66\u001B[0m                 \u001B[38;5;124mf\u001B[39m\u001B[38;5;124m\"\u001B[39m\u001B[38;5;124mto satisfy the constraint \u001B[39m\u001B[38;5;132;01m{\u001B[39;00m\u001B[38;5;28mrepr\u001B[39m(constraint)\u001B[38;5;132;01m}\u001B[39;00m\u001B[38;5;124m, \u001B[39m\u001B[38;5;124m\"\u001B[39m\n\u001B[1;32m     67\u001B[0m                 \u001B[38;5;124mf\u001B[39m\u001B[38;5;124m\"\u001B[39m\u001B[38;5;124mbut found invalid values:\u001B[39m\u001B[38;5;130;01m\\n\u001B[39;00m\u001B[38;5;132;01m{\u001B[39;00mvalue\u001B[38;5;132;01m}\u001B[39;00m\u001B[38;5;124m\"\u001B[39m\n\u001B[1;32m     68\u001B[0m             )\n\u001B[1;32m     69\u001B[0m \u001B[38;5;28msuper\u001B[39m()\u001B[38;5;241m.\u001B[39m\u001B[38;5;21m__init__\u001B[39m()\n",
      "\u001B[0;31mValueError\u001B[0m: Expected parameter scale (Tensor of shape (170,)) of distribution Normal(loc: torch.Size([170]), scale: torch.Size([170])) to satisfy the constraint GreaterThan(lower_bound=0.0), but found invalid values:\ntensor([-0.0096, -0.0096, -0.0096, -0.0096, -0.0096, -0.0096, -0.0096, -0.0096,\n        -0.0096, -0.0096, -0.0096, -0.0096, -0.0096, -0.0096, -0.0096, -0.0096,\n        -0.0096, -0.0096, -0.0096, -0.0096, -0.0096, -0.0096, -0.0096, -0.0096,\n        -0.0096, -0.0096, -0.0096, -0.0096, -0.0096, -0.0096, -0.0096, -0.0096,\n        -0.0096, -0.0096, -0.0096, -0.0096, -0.0096, -0.0096, -0.0096, -0.0096,\n        -0.0096, -0.0096, -0.0096, -0.0096, -0.0096, -0.0096, -0.0096, -0.0096,\n        -0.0096, -0.0096, -0.0096, -0.0096, -0.0096, -0.0096, -0.0096, -0.0096,\n        -0.0096, -0.0096, -0.0096, -0.0096, -0.0096, -0.0096, -0.0096, -0.0096,\n        -0.0096, -0.0096, -0.0096, -0.0096, -0.0096, -0.0096, -0.0096, -0.0096,\n        -0.0096, -0.0096, -0.0096, -0.0096, -0.0096, -0.0096, -0.0096, -0.0096,\n        -0.0096, -0.0096, -0.0096, -0.0096, -0.0096, -0.0096, -0.0096, -0.0096,\n        -0.0096, -0.0096, -0.0096, -0.0096, -0.0096, -0.0096, -0.0096, -0.0096,\n        -0.0096, -0.0096, -0.0096, -0.0096, -0.0096, -0.0096, -0.0096, -0.0096,\n        -0.0096, -0.0096, -0.0096, -0.0096, -0.0096, -0.0096, -0.0096, -0.0096,\n        -0.0096, -0.0096, -0.0096, -0.0096, -0.0096, -0.0096, -0.0096, -0.0096,\n        -0.0096, -0.0096, -0.0096, -0.0096, -0.0096, -0.0096, -0.0096, -0.0096,\n        -0.0096, -0.0096, -0.0096, -0.0096, -0.0096, -0.0096, -0.0096, -0.0096,\n        -0.0096, -0.0096, -0.0096, -0.0096, -0.0096, -0.0096, -0.0096, -0.0096,\n        -0.0096, -0.0096, -0.0096, -0.0096, -0.0096, -0.0096, -0.0096, -0.0096,\n        -0.0096, -0.0096, -0.0096, -0.0096, -0.0096, -0.0096, -0.0096, -0.0096,\n        -0.0096, -0.0096, -0.0096, -0.0096, -0.0096, -0.0096, -0.0096, -0.0096,\n        -0.0096, -0.0096], grad_fn=<ExpandBackward0>)",
      "\nThe above exception was the direct cause of the following exception:\n",
      "\u001B[0;31mValueError\u001B[0m                                Traceback (most recent call last)",
      "File \u001B[0;32m<timed exec>:8\u001B[0m\n",
      "File \u001B[0;32m~/Documents/GitHub/ml-playground/venv/lib/python3.9/site-packages/pyro/infer/svi.py:145\u001B[0m, in \u001B[0;36mSVI.step\u001B[0;34m(self, *args, **kwargs)\u001B[0m\n\u001B[1;32m    143\u001B[0m \u001B[38;5;66;03m# get loss and compute gradients\u001B[39;00m\n\u001B[1;32m    144\u001B[0m \u001B[38;5;28;01mwith\u001B[39;00m poutine\u001B[38;5;241m.\u001B[39mtrace(param_only\u001B[38;5;241m=\u001B[39m\u001B[38;5;28;01mTrue\u001B[39;00m) \u001B[38;5;28;01mas\u001B[39;00m param_capture:\n\u001B[0;32m--> 145\u001B[0m     loss \u001B[38;5;241m=\u001B[39m \u001B[38;5;28;43mself\u001B[39;49m\u001B[38;5;241;43m.\u001B[39;49m\u001B[43mloss_and_grads\u001B[49m\u001B[43m(\u001B[49m\u001B[38;5;28;43mself\u001B[39;49m\u001B[38;5;241;43m.\u001B[39;49m\u001B[43mmodel\u001B[49m\u001B[43m,\u001B[49m\u001B[43m \u001B[49m\u001B[38;5;28;43mself\u001B[39;49m\u001B[38;5;241;43m.\u001B[39;49m\u001B[43mguide\u001B[49m\u001B[43m,\u001B[49m\u001B[43m \u001B[49m\u001B[38;5;241;43m*\u001B[39;49m\u001B[43margs\u001B[49m\u001B[43m,\u001B[49m\u001B[43m \u001B[49m\u001B[38;5;241;43m*\u001B[39;49m\u001B[38;5;241;43m*\u001B[39;49m\u001B[43mkwargs\u001B[49m\u001B[43m)\u001B[49m\n\u001B[1;32m    147\u001B[0m params \u001B[38;5;241m=\u001B[39m \u001B[38;5;28mset\u001B[39m(\n\u001B[1;32m    148\u001B[0m     site[\u001B[38;5;124m\"\u001B[39m\u001B[38;5;124mvalue\u001B[39m\u001B[38;5;124m\"\u001B[39m]\u001B[38;5;241m.\u001B[39munconstrained() \u001B[38;5;28;01mfor\u001B[39;00m site \u001B[38;5;129;01min\u001B[39;00m param_capture\u001B[38;5;241m.\u001B[39mtrace\u001B[38;5;241m.\u001B[39mnodes\u001B[38;5;241m.\u001B[39mvalues()\n\u001B[1;32m    149\u001B[0m )\n\u001B[1;32m    151\u001B[0m \u001B[38;5;66;03m# actually perform gradient steps\u001B[39;00m\n\u001B[1;32m    152\u001B[0m \u001B[38;5;66;03m# torch.optim objects gets instantiated for any params that haven't been seen yet\u001B[39;00m\n",
      "File \u001B[0;32m~/Documents/GitHub/ml-playground/venv/lib/python3.9/site-packages/pyro/infer/trace_elbo.py:140\u001B[0m, in \u001B[0;36mTrace_ELBO.loss_and_grads\u001B[0;34m(self, model, guide, *args, **kwargs)\u001B[0m\n\u001B[1;32m    138\u001B[0m loss \u001B[38;5;241m=\u001B[39m \u001B[38;5;241m0.0\u001B[39m\n\u001B[1;32m    139\u001B[0m \u001B[38;5;66;03m# grab a trace from the generator\u001B[39;00m\n\u001B[0;32m--> 140\u001B[0m \u001B[38;5;28;01mfor\u001B[39;00m model_trace, guide_trace \u001B[38;5;129;01min\u001B[39;00m \u001B[38;5;28mself\u001B[39m\u001B[38;5;241m.\u001B[39m_get_traces(model, guide, args, kwargs):\n\u001B[1;32m    141\u001B[0m     loss_particle, surrogate_loss_particle \u001B[38;5;241m=\u001B[39m \u001B[38;5;28mself\u001B[39m\u001B[38;5;241m.\u001B[39m_differentiable_loss_particle(\n\u001B[1;32m    142\u001B[0m         model_trace, guide_trace\n\u001B[1;32m    143\u001B[0m     )\n\u001B[1;32m    144\u001B[0m     loss \u001B[38;5;241m+\u001B[39m\u001B[38;5;241m=\u001B[39m loss_particle \u001B[38;5;241m/\u001B[39m \u001B[38;5;28mself\u001B[39m\u001B[38;5;241m.\u001B[39mnum_particles\n",
      "File \u001B[0;32m~/Documents/GitHub/ml-playground/venv/lib/python3.9/site-packages/pyro/infer/elbo.py:236\u001B[0m, in \u001B[0;36mELBO._get_traces\u001B[0;34m(self, model, guide, args, kwargs)\u001B[0m\n\u001B[1;32m    234\u001B[0m \u001B[38;5;28;01melse\u001B[39;00m:\n\u001B[1;32m    235\u001B[0m     \u001B[38;5;28;01mfor\u001B[39;00m i \u001B[38;5;129;01min\u001B[39;00m \u001B[38;5;28mrange\u001B[39m(\u001B[38;5;28mself\u001B[39m\u001B[38;5;241m.\u001B[39mnum_particles):\n\u001B[0;32m--> 236\u001B[0m         \u001B[38;5;28;01myield\u001B[39;00m \u001B[38;5;28;43mself\u001B[39;49m\u001B[38;5;241;43m.\u001B[39;49m\u001B[43m_get_trace\u001B[49m\u001B[43m(\u001B[49m\u001B[43mmodel\u001B[49m\u001B[43m,\u001B[49m\u001B[43m \u001B[49m\u001B[43mguide\u001B[49m\u001B[43m,\u001B[49m\u001B[43m \u001B[49m\u001B[43margs\u001B[49m\u001B[43m,\u001B[49m\u001B[43m \u001B[49m\u001B[43mkwargs\u001B[49m\u001B[43m)\u001B[49m\n",
      "File \u001B[0;32m~/Documents/GitHub/ml-playground/venv/lib/python3.9/site-packages/pyro/infer/trace_elbo.py:57\u001B[0m, in \u001B[0;36mTrace_ELBO._get_trace\u001B[0;34m(self, model, guide, args, kwargs)\u001B[0m\n\u001B[1;32m     52\u001B[0m \u001B[38;5;28;01mdef\u001B[39;00m \u001B[38;5;21m_get_trace\u001B[39m(\u001B[38;5;28mself\u001B[39m, model, guide, args, kwargs):\n\u001B[1;32m     53\u001B[0m \u001B[38;5;250m    \u001B[39m\u001B[38;5;124;03m\"\"\"\u001B[39;00m\n\u001B[1;32m     54\u001B[0m \u001B[38;5;124;03m    Returns a single trace from the guide, and the model that is run\u001B[39;00m\n\u001B[1;32m     55\u001B[0m \u001B[38;5;124;03m    against it.\u001B[39;00m\n\u001B[1;32m     56\u001B[0m \u001B[38;5;124;03m    \"\"\"\u001B[39;00m\n\u001B[0;32m---> 57\u001B[0m     model_trace, guide_trace \u001B[38;5;241m=\u001B[39m \u001B[43mget_importance_trace\u001B[49m\u001B[43m(\u001B[49m\n\u001B[1;32m     58\u001B[0m \u001B[43m        \u001B[49m\u001B[38;5;124;43m\"\u001B[39;49m\u001B[38;5;124;43mflat\u001B[39;49m\u001B[38;5;124;43m\"\u001B[39;49m\u001B[43m,\u001B[49m\u001B[43m \u001B[49m\u001B[38;5;28;43mself\u001B[39;49m\u001B[38;5;241;43m.\u001B[39;49m\u001B[43mmax_plate_nesting\u001B[49m\u001B[43m,\u001B[49m\u001B[43m \u001B[49m\u001B[43mmodel\u001B[49m\u001B[43m,\u001B[49m\u001B[43m \u001B[49m\u001B[43mguide\u001B[49m\u001B[43m,\u001B[49m\u001B[43m \u001B[49m\u001B[43margs\u001B[49m\u001B[43m,\u001B[49m\u001B[43m \u001B[49m\u001B[43mkwargs\u001B[49m\n\u001B[1;32m     59\u001B[0m \u001B[43m    \u001B[49m\u001B[43m)\u001B[49m\n\u001B[1;32m     60\u001B[0m     \u001B[38;5;28;01mif\u001B[39;00m is_validation_enabled():\n\u001B[1;32m     61\u001B[0m         check_if_enumerated(guide_trace)\n",
      "File \u001B[0;32m~/Documents/GitHub/ml-playground/venv/lib/python3.9/site-packages/pyro/infer/enum.py:65\u001B[0m, in \u001B[0;36mget_importance_trace\u001B[0;34m(graph_type, max_plate_nesting, model, guide, args, kwargs, detach)\u001B[0m\n\u001B[1;32m     63\u001B[0m     \u001B[38;5;28;01mif\u001B[39;00m detach:\n\u001B[1;32m     64\u001B[0m         guide_trace\u001B[38;5;241m.\u001B[39mdetach_()\n\u001B[0;32m---> 65\u001B[0m     model_trace \u001B[38;5;241m=\u001B[39m \u001B[43mpoutine\u001B[49m\u001B[38;5;241;43m.\u001B[39;49m\u001B[43mtrace\u001B[49m\u001B[43m(\u001B[49m\n\u001B[1;32m     66\u001B[0m \u001B[43m        \u001B[49m\u001B[43mpoutine\u001B[49m\u001B[38;5;241;43m.\u001B[39;49m\u001B[43mreplay\u001B[49m\u001B[43m(\u001B[49m\u001B[43mmodel\u001B[49m\u001B[43m,\u001B[49m\u001B[43m \u001B[49m\u001B[43mtrace\u001B[49m\u001B[38;5;241;43m=\u001B[39;49m\u001B[43mguide_trace\u001B[49m\u001B[43m)\u001B[49m\u001B[43m,\u001B[49m\u001B[43m \u001B[49m\u001B[43mgraph_type\u001B[49m\u001B[38;5;241;43m=\u001B[39;49m\u001B[43mgraph_type\u001B[49m\n\u001B[1;32m     67\u001B[0m \u001B[43m    \u001B[49m\u001B[43m)\u001B[49m\u001B[38;5;241;43m.\u001B[39;49m\u001B[43mget_trace\u001B[49m\u001B[43m(\u001B[49m\u001B[38;5;241;43m*\u001B[39;49m\u001B[43margs\u001B[49m\u001B[43m,\u001B[49m\u001B[43m \u001B[49m\u001B[38;5;241;43m*\u001B[39;49m\u001B[38;5;241;43m*\u001B[39;49m\u001B[43mkwargs\u001B[49m\u001B[43m)\u001B[49m\n\u001B[1;32m     69\u001B[0m \u001B[38;5;28;01mif\u001B[39;00m is_validation_enabled():\n\u001B[1;32m     70\u001B[0m     check_model_guide_match(model_trace, guide_trace, max_plate_nesting)\n",
      "File \u001B[0;32m~/Documents/GitHub/ml-playground/venv/lib/python3.9/site-packages/pyro/poutine/trace_messenger.py:198\u001B[0m, in \u001B[0;36mTraceHandler.get_trace\u001B[0;34m(self, *args, **kwargs)\u001B[0m\n\u001B[1;32m    190\u001B[0m \u001B[38;5;28;01mdef\u001B[39;00m \u001B[38;5;21mget_trace\u001B[39m(\u001B[38;5;28mself\u001B[39m, \u001B[38;5;241m*\u001B[39margs, \u001B[38;5;241m*\u001B[39m\u001B[38;5;241m*\u001B[39mkwargs):\n\u001B[1;32m    191\u001B[0m \u001B[38;5;250m    \u001B[39m\u001B[38;5;124;03m\"\"\"\u001B[39;00m\n\u001B[1;32m    192\u001B[0m \u001B[38;5;124;03m    :returns: data structure\u001B[39;00m\n\u001B[1;32m    193\u001B[0m \u001B[38;5;124;03m    :rtype: pyro.poutine.Trace\u001B[39;00m\n\u001B[0;32m   (...)\u001B[0m\n\u001B[1;32m    196\u001B[0m \u001B[38;5;124;03m    Calls this poutine and returns its trace instead of the function's return value.\u001B[39;00m\n\u001B[1;32m    197\u001B[0m \u001B[38;5;124;03m    \"\"\"\u001B[39;00m\n\u001B[0;32m--> 198\u001B[0m     \u001B[38;5;28;43mself\u001B[39;49m\u001B[43m(\u001B[49m\u001B[38;5;241;43m*\u001B[39;49m\u001B[43margs\u001B[49m\u001B[43m,\u001B[49m\u001B[43m \u001B[49m\u001B[38;5;241;43m*\u001B[39;49m\u001B[38;5;241;43m*\u001B[39;49m\u001B[43mkwargs\u001B[49m\u001B[43m)\u001B[49m\n\u001B[1;32m    199\u001B[0m     \u001B[38;5;28;01mreturn\u001B[39;00m \u001B[38;5;28mself\u001B[39m\u001B[38;5;241m.\u001B[39mmsngr\u001B[38;5;241m.\u001B[39mget_trace()\n",
      "File \u001B[0;32m~/Documents/GitHub/ml-playground/venv/lib/python3.9/site-packages/pyro/poutine/trace_messenger.py:180\u001B[0m, in \u001B[0;36mTraceHandler.__call__\u001B[0;34m(self, *args, **kwargs)\u001B[0m\n\u001B[1;32m    178\u001B[0m         exc \u001B[38;5;241m=\u001B[39m exc_type(\u001B[38;5;124m\"\u001B[39m\u001B[38;5;132;01m{}\u001B[39;00m\u001B[38;5;130;01m\\n\u001B[39;00m\u001B[38;5;132;01m{}\u001B[39;00m\u001B[38;5;124m\"\u001B[39m\u001B[38;5;241m.\u001B[39mformat(exc_value, shapes))\n\u001B[1;32m    179\u001B[0m         exc \u001B[38;5;241m=\u001B[39m exc\u001B[38;5;241m.\u001B[39mwith_traceback(traceback)\n\u001B[0;32m--> 180\u001B[0m         \u001B[38;5;28;01mraise\u001B[39;00m exc \u001B[38;5;28;01mfrom\u001B[39;00m \u001B[38;5;21;01me\u001B[39;00m\n\u001B[1;32m    181\u001B[0m     \u001B[38;5;28mself\u001B[39m\u001B[38;5;241m.\u001B[39mmsngr\u001B[38;5;241m.\u001B[39mtrace\u001B[38;5;241m.\u001B[39madd_node(\n\u001B[1;32m    182\u001B[0m         \u001B[38;5;124m\"\u001B[39m\u001B[38;5;124m_RETURN\u001B[39m\u001B[38;5;124m\"\u001B[39m, name\u001B[38;5;241m=\u001B[39m\u001B[38;5;124m\"\u001B[39m\u001B[38;5;124m_RETURN\u001B[39m\u001B[38;5;124m\"\u001B[39m, \u001B[38;5;28mtype\u001B[39m\u001B[38;5;241m=\u001B[39m\u001B[38;5;124m\"\u001B[39m\u001B[38;5;124mreturn\u001B[39m\u001B[38;5;124m\"\u001B[39m, value\u001B[38;5;241m=\u001B[39mret\n\u001B[1;32m    183\u001B[0m     )\n\u001B[1;32m    184\u001B[0m \u001B[38;5;28;01mreturn\u001B[39;00m ret\n",
      "File \u001B[0;32m~/Documents/GitHub/ml-playground/venv/lib/python3.9/site-packages/pyro/poutine/trace_messenger.py:174\u001B[0m, in \u001B[0;36mTraceHandler.__call__\u001B[0;34m(self, *args, **kwargs)\u001B[0m\n\u001B[1;32m    170\u001B[0m \u001B[38;5;28mself\u001B[39m\u001B[38;5;241m.\u001B[39mmsngr\u001B[38;5;241m.\u001B[39mtrace\u001B[38;5;241m.\u001B[39madd_node(\n\u001B[1;32m    171\u001B[0m     \u001B[38;5;124m\"\u001B[39m\u001B[38;5;124m_INPUT\u001B[39m\u001B[38;5;124m\"\u001B[39m, name\u001B[38;5;241m=\u001B[39m\u001B[38;5;124m\"\u001B[39m\u001B[38;5;124m_INPUT\u001B[39m\u001B[38;5;124m\"\u001B[39m, \u001B[38;5;28mtype\u001B[39m\u001B[38;5;241m=\u001B[39m\u001B[38;5;124m\"\u001B[39m\u001B[38;5;124margs\u001B[39m\u001B[38;5;124m\"\u001B[39m, args\u001B[38;5;241m=\u001B[39margs, kwargs\u001B[38;5;241m=\u001B[39mkwargs\n\u001B[1;32m    172\u001B[0m )\n\u001B[1;32m    173\u001B[0m \u001B[38;5;28;01mtry\u001B[39;00m:\n\u001B[0;32m--> 174\u001B[0m     ret \u001B[38;5;241m=\u001B[39m \u001B[38;5;28;43mself\u001B[39;49m\u001B[38;5;241;43m.\u001B[39;49m\u001B[43mfn\u001B[49m\u001B[43m(\u001B[49m\u001B[38;5;241;43m*\u001B[39;49m\u001B[43margs\u001B[49m\u001B[43m,\u001B[49m\u001B[43m \u001B[49m\u001B[38;5;241;43m*\u001B[39;49m\u001B[38;5;241;43m*\u001B[39;49m\u001B[43mkwargs\u001B[49m\u001B[43m)\u001B[49m\n\u001B[1;32m    175\u001B[0m \u001B[38;5;28;01mexcept\u001B[39;00m (\u001B[38;5;167;01mValueError\u001B[39;00m, \u001B[38;5;167;01mRuntimeError\u001B[39;00m) \u001B[38;5;28;01mas\u001B[39;00m e:\n\u001B[1;32m    176\u001B[0m     exc_type, exc_value, traceback \u001B[38;5;241m=\u001B[39m sys\u001B[38;5;241m.\u001B[39mexc_info()\n",
      "File \u001B[0;32m~/Documents/GitHub/ml-playground/venv/lib/python3.9/site-packages/pyro/poutine/messenger.py:12\u001B[0m, in \u001B[0;36m_context_wrap\u001B[0;34m(context, fn, *args, **kwargs)\u001B[0m\n\u001B[1;32m     10\u001B[0m \u001B[38;5;28;01mdef\u001B[39;00m \u001B[38;5;21m_context_wrap\u001B[39m(context, fn, \u001B[38;5;241m*\u001B[39margs, \u001B[38;5;241m*\u001B[39m\u001B[38;5;241m*\u001B[39mkwargs):\n\u001B[1;32m     11\u001B[0m     \u001B[38;5;28;01mwith\u001B[39;00m context:\n\u001B[0;32m---> 12\u001B[0m         \u001B[38;5;28;01mreturn\u001B[39;00m \u001B[43mfn\u001B[49m\u001B[43m(\u001B[49m\u001B[38;5;241;43m*\u001B[39;49m\u001B[43margs\u001B[49m\u001B[43m,\u001B[49m\u001B[43m \u001B[49m\u001B[38;5;241;43m*\u001B[39;49m\u001B[38;5;241;43m*\u001B[39;49m\u001B[43mkwargs\u001B[49m\u001B[43m)\u001B[49m\n",
      "Cell \u001B[0;32mIn[46], line 11\u001B[0m, in \u001B[0;36mmodel\u001B[0;34m(is_cont_africa, ruggedness, log_gdp)\u001B[0m\n\u001B[1;32m      8\u001B[0m mean \u001B[38;5;241m=\u001B[39m a \u001B[38;5;241m+\u001B[39m b_a \u001B[38;5;241m*\u001B[39m is_cont_africa \u001B[38;5;241m+\u001B[39m b_r \u001B[38;5;241m*\u001B[39m ruggedness \u001B[38;5;241m+\u001B[39m b_ar \u001B[38;5;241m*\u001B[39m is_cont_africa \u001B[38;5;241m*\u001B[39m ruggedness\n\u001B[1;32m     10\u001B[0m \u001B[38;5;28;01mwith\u001B[39;00m pyro\u001B[38;5;241m.\u001B[39mplate(\u001B[38;5;124m\"\u001B[39m\u001B[38;5;124mdata\u001B[39m\u001B[38;5;124m\"\u001B[39m, \u001B[38;5;28mlen\u001B[39m(ruggedness)):\n\u001B[0;32m---> 11\u001B[0m     \u001B[38;5;28;01mreturn\u001B[39;00m pyro\u001B[38;5;241m.\u001B[39msample(\u001B[38;5;124m\"\u001B[39m\u001B[38;5;124mobs\u001B[39m\u001B[38;5;124m\"\u001B[39m, \u001B[43mdist\u001B[49m\u001B[38;5;241;43m.\u001B[39;49m\u001B[43mNormal\u001B[49m\u001B[43m(\u001B[49m\u001B[43mmean\u001B[49m\u001B[43m,\u001B[49m\u001B[43m \u001B[49m\u001B[43msigma\u001B[49m\u001B[43m)\u001B[49m, obs\u001B[38;5;241m=\u001B[39mlog_gdp)\n",
      "File \u001B[0;32m~/Documents/GitHub/ml-playground/venv/lib/python3.9/site-packages/pyro/distributions/distribution.py:24\u001B[0m, in \u001B[0;36mDistributionMeta.__call__\u001B[0;34m(cls, *args, **kwargs)\u001B[0m\n\u001B[1;32m     22\u001B[0m     \u001B[38;5;28;01mif\u001B[39;00m result \u001B[38;5;129;01mis\u001B[39;00m \u001B[38;5;129;01mnot\u001B[39;00m \u001B[38;5;28;01mNone\u001B[39;00m:\n\u001B[1;32m     23\u001B[0m         \u001B[38;5;28;01mreturn\u001B[39;00m result\n\u001B[0;32m---> 24\u001B[0m \u001B[38;5;28;01mreturn\u001B[39;00m \u001B[38;5;28;43msuper\u001B[39;49m\u001B[43m(\u001B[49m\u001B[43m)\u001B[49m\u001B[38;5;241;43m.\u001B[39;49m\u001B[38;5;21;43m__call__\u001B[39;49m\u001B[43m(\u001B[49m\u001B[38;5;241;43m*\u001B[39;49m\u001B[43margs\u001B[49m\u001B[43m,\u001B[49m\u001B[43m \u001B[49m\u001B[38;5;241;43m*\u001B[39;49m\u001B[38;5;241;43m*\u001B[39;49m\u001B[43mkwargs\u001B[49m\u001B[43m)\u001B[49m\n",
      "File \u001B[0;32m~/Documents/GitHub/ml-playground/venv/lib/python3.9/site-packages/torch/distributions/normal.py:56\u001B[0m, in \u001B[0;36mNormal.__init__\u001B[0;34m(self, loc, scale, validate_args)\u001B[0m\n\u001B[1;32m     54\u001B[0m \u001B[38;5;28;01melse\u001B[39;00m:\n\u001B[1;32m     55\u001B[0m     batch_shape \u001B[38;5;241m=\u001B[39m \u001B[38;5;28mself\u001B[39m\u001B[38;5;241m.\u001B[39mloc\u001B[38;5;241m.\u001B[39msize()\n\u001B[0;32m---> 56\u001B[0m \u001B[38;5;28;43msuper\u001B[39;49m\u001B[43m(\u001B[49m\u001B[43m)\u001B[49m\u001B[38;5;241;43m.\u001B[39;49m\u001B[38;5;21;43m__init__\u001B[39;49m\u001B[43m(\u001B[49m\u001B[43mbatch_shape\u001B[49m\u001B[43m,\u001B[49m\u001B[43m \u001B[49m\u001B[43mvalidate_args\u001B[49m\u001B[38;5;241;43m=\u001B[39;49m\u001B[43mvalidate_args\u001B[49m\u001B[43m)\u001B[49m\n",
      "File \u001B[0;32m~/Documents/GitHub/ml-playground/venv/lib/python3.9/site-packages/torch/distributions/distribution.py:62\u001B[0m, in \u001B[0;36mDistribution.__init__\u001B[0;34m(self, batch_shape, event_shape, validate_args)\u001B[0m\n\u001B[1;32m     60\u001B[0m         valid \u001B[38;5;241m=\u001B[39m constraint\u001B[38;5;241m.\u001B[39mcheck(value)\n\u001B[1;32m     61\u001B[0m         \u001B[38;5;28;01mif\u001B[39;00m \u001B[38;5;129;01mnot\u001B[39;00m valid\u001B[38;5;241m.\u001B[39mall():\n\u001B[0;32m---> 62\u001B[0m             \u001B[38;5;28;01mraise\u001B[39;00m \u001B[38;5;167;01mValueError\u001B[39;00m(\n\u001B[1;32m     63\u001B[0m                 \u001B[38;5;124mf\u001B[39m\u001B[38;5;124m\"\u001B[39m\u001B[38;5;124mExpected parameter \u001B[39m\u001B[38;5;132;01m{\u001B[39;00mparam\u001B[38;5;132;01m}\u001B[39;00m\u001B[38;5;124m \u001B[39m\u001B[38;5;124m\"\u001B[39m\n\u001B[1;32m     64\u001B[0m                 \u001B[38;5;124mf\u001B[39m\u001B[38;5;124m\"\u001B[39m\u001B[38;5;124m(\u001B[39m\u001B[38;5;132;01m{\u001B[39;00m\u001B[38;5;28mtype\u001B[39m(value)\u001B[38;5;241m.\u001B[39m\u001B[38;5;18m__name__\u001B[39m\u001B[38;5;132;01m}\u001B[39;00m\u001B[38;5;124m of shape \u001B[39m\u001B[38;5;132;01m{\u001B[39;00m\u001B[38;5;28mtuple\u001B[39m(value\u001B[38;5;241m.\u001B[39mshape)\u001B[38;5;132;01m}\u001B[39;00m\u001B[38;5;124m) \u001B[39m\u001B[38;5;124m\"\u001B[39m\n\u001B[1;32m     65\u001B[0m                 \u001B[38;5;124mf\u001B[39m\u001B[38;5;124m\"\u001B[39m\u001B[38;5;124mof distribution \u001B[39m\u001B[38;5;132;01m{\u001B[39;00m\u001B[38;5;28mrepr\u001B[39m(\u001B[38;5;28mself\u001B[39m)\u001B[38;5;132;01m}\u001B[39;00m\u001B[38;5;124m \u001B[39m\u001B[38;5;124m\"\u001B[39m\n\u001B[1;32m     66\u001B[0m                 \u001B[38;5;124mf\u001B[39m\u001B[38;5;124m\"\u001B[39m\u001B[38;5;124mto satisfy the constraint \u001B[39m\u001B[38;5;132;01m{\u001B[39;00m\u001B[38;5;28mrepr\u001B[39m(constraint)\u001B[38;5;132;01m}\u001B[39;00m\u001B[38;5;124m, \u001B[39m\u001B[38;5;124m\"\u001B[39m\n\u001B[1;32m     67\u001B[0m                 \u001B[38;5;124mf\u001B[39m\u001B[38;5;124m\"\u001B[39m\u001B[38;5;124mbut found invalid values:\u001B[39m\u001B[38;5;130;01m\\n\u001B[39;00m\u001B[38;5;132;01m{\u001B[39;00mvalue\u001B[38;5;132;01m}\u001B[39;00m\u001B[38;5;124m\"\u001B[39m\n\u001B[1;32m     68\u001B[0m             )\n\u001B[1;32m     69\u001B[0m \u001B[38;5;28msuper\u001B[39m()\u001B[38;5;241m.\u001B[39m\u001B[38;5;21m__init__\u001B[39m()\n",
      "\u001B[0;31mValueError\u001B[0m: Expected parameter scale (Tensor of shape (170,)) of distribution Normal(loc: torch.Size([170]), scale: torch.Size([170])) to satisfy the constraint GreaterThan(lower_bound=0.0), but found invalid values:\ntensor([-0.0096, -0.0096, -0.0096, -0.0096, -0.0096, -0.0096, -0.0096, -0.0096,\n        -0.0096, -0.0096, -0.0096, -0.0096, -0.0096, -0.0096, -0.0096, -0.0096,\n        -0.0096, -0.0096, -0.0096, -0.0096, -0.0096, -0.0096, -0.0096, -0.0096,\n        -0.0096, -0.0096, -0.0096, -0.0096, -0.0096, -0.0096, -0.0096, -0.0096,\n        -0.0096, -0.0096, -0.0096, -0.0096, -0.0096, -0.0096, -0.0096, -0.0096,\n        -0.0096, -0.0096, -0.0096, -0.0096, -0.0096, -0.0096, -0.0096, -0.0096,\n        -0.0096, -0.0096, -0.0096, -0.0096, -0.0096, -0.0096, -0.0096, -0.0096,\n        -0.0096, -0.0096, -0.0096, -0.0096, -0.0096, -0.0096, -0.0096, -0.0096,\n        -0.0096, -0.0096, -0.0096, -0.0096, -0.0096, -0.0096, -0.0096, -0.0096,\n        -0.0096, -0.0096, -0.0096, -0.0096, -0.0096, -0.0096, -0.0096, -0.0096,\n        -0.0096, -0.0096, -0.0096, -0.0096, -0.0096, -0.0096, -0.0096, -0.0096,\n        -0.0096, -0.0096, -0.0096, -0.0096, -0.0096, -0.0096, -0.0096, -0.0096,\n        -0.0096, -0.0096, -0.0096, -0.0096, -0.0096, -0.0096, -0.0096, -0.0096,\n        -0.0096, -0.0096, -0.0096, -0.0096, -0.0096, -0.0096, -0.0096, -0.0096,\n        -0.0096, -0.0096, -0.0096, -0.0096, -0.0096, -0.0096, -0.0096, -0.0096,\n        -0.0096, -0.0096, -0.0096, -0.0096, -0.0096, -0.0096, -0.0096, -0.0096,\n        -0.0096, -0.0096, -0.0096, -0.0096, -0.0096, -0.0096, -0.0096, -0.0096,\n        -0.0096, -0.0096, -0.0096, -0.0096, -0.0096, -0.0096, -0.0096, -0.0096,\n        -0.0096, -0.0096, -0.0096, -0.0096, -0.0096, -0.0096, -0.0096, -0.0096,\n        -0.0096, -0.0096, -0.0096, -0.0096, -0.0096, -0.0096, -0.0096, -0.0096,\n        -0.0096, -0.0096, -0.0096, -0.0096, -0.0096, -0.0096, -0.0096, -0.0096,\n        -0.0096, -0.0096], grad_fn=<ExpandBackward0>)\nTrace Shapes:      \n Param Sites:      \nSample Sites:      \n       a dist     |\n        value     |\n      bA dist     |\n        value     |\n      bR dist     |\n        value     |\n     bAR dist     |\n        value     |\n   sigma dist     |\n        value     |\n    data dist     |\n        value 170 |"
     ]
    }
   ],
   "source": [
    "%%time\n",
    "pyro.clear_param_store() #Delete all existing parameters\n",
    "adam = pyro.optim.Adam({\"lr\": 0.02})\n",
    "elbo = pyro.infer.Trace_ELBO()\n",
    "svi = pyro.infer.SVI(model, custom_guide, adam, elbo)\n",
    "\n",
    "losses = []\n",
    "for step in range(5000):  # Consider running for more steps.\n",
    "    loss = svi.step(is_cont_africa, ruggedness, log_gdp)\n",
    "    losses.append(loss)\n",
    "    if step % 100 == 0:\n",
    "        logging.info(\"Elbo loss: {}\".format(loss))\n",
    "\n",
    "plt.figure(figsize=(5, 2))\n",
    "plt.plot(losses)\n",
    "plt.xlabel(\"SVI step\")\n",
    "plt.ylabel(\"ELBO loss\");"
   ],
   "metadata": {
    "collapsed": false,
    "ExecuteTime": {
     "start_time": "2023-05-10T08:29:20.887148Z",
     "end_time": "2023-05-10T08:29:23.775966Z"
    }
   }
  },
  {
   "cell_type": "code",
   "execution_count": 51,
   "outputs": [
    {
     "name": "stdout",
     "output_type": "stream",
     "text": [
      "a_loc 0.7820944\n",
      "a_scale 0.013650103\n",
      "sigma_loc 0.16775244\n",
      "weights_loc [-0.1427799  -0.00412611  0.03593678]\n",
      "weights_scale [0.02179492 0.00997078 0.01552858]\n"
     ]
    }
   ],
   "source": [
    "for name, value in pyro.get_param_store().items():\n",
    "    print(name, pyro.param(name).data.cpu().numpy())"
   ],
   "metadata": {
    "collapsed": false,
    "ExecuteTime": {
     "start_time": "2023-05-10T08:29:25.873747Z",
     "end_time": "2023-05-10T08:29:25.877386Z"
    }
   }
  },
  {
   "cell_type": "markdown",
   "source": [
    "### MCMC Simulations"
   ],
   "metadata": {
    "collapsed": false
   }
  },
  {
   "cell_type": "markdown",
   "source": [],
   "metadata": {
    "collapsed": false
   }
  },
  {
   "cell_type": "code",
   "execution_count": 52,
   "outputs": [
    {
     "name": "stderr",
     "output_type": "stream",
     "text": [
      "Sample: 100%|██████████| 1000/1000 [00:10, 99.96it/s, step size=2.47e-01, acc. prob=0.939]\n"
     ]
    }
   ],
   "source": [
    "#### MCMC ####\n",
    "from pyro.infer import MCMC, NUTS\n",
    "nuts_kernel = NUTS(model)\n",
    "mcmc = MCMC(nuts_kernel, num_samples=500, warmup_steps=500)\n",
    "mcmc.run(is_cont_africa, ruggedness, log_gdp)"
   ],
   "metadata": {
    "collapsed": false,
    "ExecuteTime": {
     "start_time": "2023-05-10T08:29:29.157067Z",
     "end_time": "2023-05-10T08:29:39.181257Z"
    }
   }
  },
  {
   "cell_type": "code",
   "execution_count": 53,
   "outputs": [
    {
     "data": {
      "text/plain": "{'a': OrderedDict([('n_eff', tensor(195.4850)), ('r_hat', tensor(1.0025))]),\n 'bA': OrderedDict([('n_eff', tensor(155.9514)), ('r_hat', tensor(0.9987))]),\n 'bAR': OrderedDict([('n_eff', tensor(191.5359)), ('r_hat', tensor(0.9986))]),\n 'bR': OrderedDict([('n_eff', tensor(203.0556)), ('r_hat', tensor(1.0013))]),\n 'sigma': OrderedDict([('n_eff', tensor(172.8843)),\n              ('r_hat', tensor(0.9980))]),\n 'divergences': {'chain 0': []},\n 'acceptance rate': {'chain 0': 0.996}}"
     },
     "execution_count": 53,
     "metadata": {},
     "output_type": "execute_result"
    }
   ],
   "source": [
    "mcmc.diagnostics()"
   ],
   "metadata": {
    "collapsed": false,
    "ExecuteTime": {
     "start_time": "2023-05-10T08:29:42.347964Z",
     "end_time": "2023-05-10T08:29:42.373130Z"
    }
   }
  },
  {
   "cell_type": "code",
   "execution_count": 17,
   "outputs": [
    {
     "data": {
      "text/plain": "(9.1784115, 0.13632008)"
     },
     "execution_count": 17,
     "metadata": {},
     "output_type": "execute_result"
    },
    {
     "data": {
      "text/plain": "<Figure size 432x288 with 1 Axes>",
      "image/png": "[encoded data removed]"
     },
     "metadata": {},
     "output_type": "display_data"
    }
   ],
   "source": [
    "hmc_samples = {k: v.detach().cpu().numpy() for k, v in mcmc.get_samples().items()}\n",
    "plt.hist(hmc_samples.get('a'), 30);\n",
    "np.mean(hmc_samples.get('a')), np.std(hmc_samples.get('a'))"
   ],
   "metadata": {
    "collapsed": false
   }
  },
  {
   "cell_type": "markdown",
   "source": [],
   "metadata": {
    "collapsed": false
   }
  },
  {
   "cell_type": "code",
   "execution_count": 17,
   "outputs": [],
   "source": [],
   "metadata": {
    "collapsed": false
   }
  },
  {
   "cell_type": "markdown",
   "source": [
    "### Posterior Predictive Checks\n",
    "\n",
    "There are convenience functions for the posterior predictive (see also https://pyro.ai/examples/intro_long.html#Example:-posterior-predictive-uncertainty-in-Pyro)"
   ],
   "metadata": {
    "collapsed": false
   }
  },
  {
   "cell_type": "code",
   "execution_count": 18,
   "outputs": [],
   "source": [
    "predictive = pyro.infer.Predictive(model, guide=custom_guide, num_samples=800)\n",
    "svi_samples = predictive(is_cont_africa, ruggedness, log_gdp=None)"
   ],
   "metadata": {
    "collapsed": false
   }
  },
  {
   "cell_type": "code",
   "execution_count": 19,
   "outputs": [
    {
     "ename": "KeyError",
     "evalue": "'rugged'",
     "output_type": "error",
     "traceback": [
      "\u001B[0;31m---------------------------------------------------------------------------\u001B[0m",
      "\u001B[0;31mKeyError\u001B[0m                                  Traceback (most recent call last)",
      "\u001B[0;32m/var/folders/fz/m2rj_6v909n6crfwx0qjlps00000gn/T/ipykernel_64829/3764598335.py\u001B[0m in \u001B[0;36m<module>\u001B[0;34m\u001B[0m\n\u001B[0;32m----> 1\u001B[0;31m \u001B[0msvi_samples\u001B[0m\u001B[0;34m[\u001B[0m\u001B[0;34m\"obs\"\u001B[0m\u001B[0;34m]\u001B[0m\u001B[0;34m.\u001B[0m\u001B[0mshape\u001B[0m\u001B[0;34m,\u001B[0m \u001B[0msvi_samples\u001B[0m\u001B[0;34m[\u001B[0m\u001B[0;34m\"rugged\"\u001B[0m\u001B[0;34m]\u001B[0m\u001B[0;34m\u001B[0m\u001B[0;34m\u001B[0m\u001B[0m\n\u001B[0m",
      "\u001B[0;31mKeyError\u001B[0m: 'rugged'"
     ]
    }
   ],
   "source": [
    "svi_samples[\"obs\"].shape, svi_samples[\"rugged\"]"
   ],
   "metadata": {
    "collapsed": false
   }
  },
  {
   "cell_type": "code",
   "execution_count": null,
   "outputs": [],
   "source": [],
   "metadata": {
    "collapsed": false
   }
  }
 ],
 "metadata": {
  "kernelspec": {
   "name": "python3",
   "language": "python",
   "display_name": "Python 3"
  },
  "language_info": {
   "name": "python",
   "version": "3.8.8",
   "mimetype": "text/x-python",
   "codemirror_mode": {
    "name": "ipython",
    "version": 3
   },
   "pygments_lexer": "ipython3",
   "nbconvert_exporter": "python",
   "file_extension": ".py"
  },
  "kernel_info": {
   "name": "python3"
  }
 },
 "nbformat": 4,
 "nbformat_minor": 0
}
