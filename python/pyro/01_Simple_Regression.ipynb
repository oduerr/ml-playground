{
 "cells": [
  {
   "cell_type": "markdown",
   "source": [
    "# Introduction to pyro\n",
    "Taken from: https://pyro.ai/examples/intro_long.html\n",
    "\n",
    "### Terms pyro lingo\n",
    "\n",
    "#### Variables and Parameters\n",
    "\n",
    "* Random Variables `pyro.sample`\n",
    "* Observed Random Variables `pyro.sample`\n",
    "* Parameters (non-random) variables (e.g. variational parameters) `pyro.param`\n"
   ],
   "metadata": {
    "collapsed": false
   }
  },
  {
   "cell_type": "markdown",
   "source": [
    "#### Example Linear Regression\n",
    "\n",
    "This is the ruggness in afric example given in stat. rethinking. Note we are first doing non-Bayesian linear regression.\n",
    "\n",
    "Taken from https://pyro.ai/examples/intro_long.html#Example:-Geography-and-national-income"
   ],
   "metadata": {
    "collapsed": false
   }
  },
  {
   "cell_type": "code",
   "source": [
    "from pyro.distributions import LogNormal, Categorical, MultivariateNormal, Normal\n",
    "import logging\n",
    "import os\n",
    "\n",
    "import torch\n",
    "import numpy as np\n",
    "import pandas as pd\n",
    "import seaborn as sns\n",
    "import matplotlib.pyplot as plt\n",
    "\n",
    "import pyro"
   ],
   "outputs": [],
   "execution_count": 1,
   "metadata": {
    "collapsed": false
   }
  },
  {
   "cell_type": "code",
   "source": [
    "DATA_URL = \"https://d2hg8soec8ck9v.cloudfront.net/datasets/rugged_data.csv\"\n",
    "data = pd.read_csv(DATA_URL, encoding=\"ISO-8859-1\")\n",
    "df = data[[\"cont_africa\", \"rugged\", \"rgdppc_2000\"]]"
   ],
   "outputs": [],
   "execution_count": 2,
   "metadata": {
    "collapsed": false
   }
  },
  {
   "cell_type": "code",
   "source": [
    "df = df[np.isfinite(df.rgdppc_2000)]\n",
    "df[\"rgdppc_2000\"] = np.log(df[\"rgdppc_2000\"])\n",
    "df.head()"
   ],
   "outputs": [
    {
     "data": {
      "text/plain": "   cont_africa  rugged  rgdppc_2000\n2            1   0.858     7.492609\n4            0   3.427     8.216929\n7            0   0.769     9.933263\n8            0   0.775     9.407032\n9            0   2.688     7.792343",
      "text/html": "<div>\n<style scoped>\n    .dataframe tbody tr th:only-of-type {\n        vertical-align: middle;\n    }\n\n    .dataframe tbody tr th {\n        vertical-align: top;\n    }\n\n    .dataframe thead th {\n        text-align: right;\n    }\n</style>\n<table border=\"1\" class=\"dataframe\">\n  <thead>\n    <tr style=\"text-align: right;\">\n      <th></th>\n      <th>cont_africa</th>\n      <th>rugged</th>\n      <th>rgdppc_2000</th>\n    </tr>\n  </thead>\n  <tbody>\n    <tr>\n      <th>2</th>\n      <td>1</td>\n      <td>0.858</td>\n      <td>7.492609</td>\n    </tr>\n    <tr>\n      <th>4</th>\n      <td>0</td>\n      <td>3.427</td>\n      <td>8.216929</td>\n    </tr>\n    <tr>\n      <th>7</th>\n      <td>0</td>\n      <td>0.769</td>\n      <td>9.933263</td>\n    </tr>\n    <tr>\n      <th>8</th>\n      <td>0</td>\n      <td>0.775</td>\n      <td>9.407032</td>\n    </tr>\n    <tr>\n      <th>9</th>\n      <td>0</td>\n      <td>2.688</td>\n      <td>7.792343</td>\n    </tr>\n  </tbody>\n</table>\n</div>"
     },
     "execution_count": 3,
     "metadata": {},
     "output_type": "execute_result"
    }
   ],
   "execution_count": 3,
   "metadata": {
    "collapsed": false
   }
  },
  {
   "cell_type": "code",
   "source": [
    "train = torch.tensor(df.values, dtype=torch.float)\n",
    "is_cont_africa, ruggedness, log_gdp = train[:, 0], train[:, 1], train[:, 2]"
   ],
   "outputs": [],
   "execution_count": 4,
   "metadata": {
    "collapsed": false
   }
  },
  {
   "cell_type": "code",
   "source": [
    "import pyro.distributions as dist\n",
    "import pyro.distributions.constraints as constraints\n",
    "\n",
    "def simple_model(is_cont_africa, ruggedness, log_gdp=None):\n",
    "    a = pyro.param(\"a\", lambda: torch.randn(())) #We initialize with random\n",
    "    b_a = pyro.param(\"bA\", lambda: torch.randn(()))\n",
    "    b_r = pyro.param(\"bR\", lambda: torch.randn(()))\n",
    "    b_ar = pyro.param(\"bAR\", lambda: torch.randn(()))\n",
    "    sigma = pyro.param(\"sigma\", lambda: torch.ones(()), constraint=constraints.positive)\n",
    "\n",
    "    mean = a + b_a * is_cont_africa + b_r * ruggedness + b_ar * is_cont_africa * ruggedness\n",
    "\n",
    "    with pyro.plate(\"data\", len(ruggedness)):\n",
    "        return pyro.sample(\"obs\", dist.Normal(mean, sigma), obs=log_gdp)\n",
    "\n",
    "#render_parameters=True not working in the current installation\n",
    "pyro.render_model(simple_model, model_args=(is_cont_africa, ruggedness, log_gdp))"
   ],
   "outputs": [
    {
     "ename": "TypeError",
     "evalue": "render_model() got an unexpected keyword argument 'render_parameters'",
     "output_type": "error",
     "traceback": [
      "\u001B[0;31m---------------------------------------------------------------------------\u001B[0m",
      "\u001B[0;31mTypeError\u001B[0m                                 Traceback (most recent call last)",
      "\u001B[0;32m/var/folders/fz/m2rj_6v909n6crfwx0qjlps00000gn/T/ipykernel_64829/3174877181.py\u001B[0m in \u001B[0;36m<module>\u001B[0;34m\u001B[0m\n\u001B[1;32m     14\u001B[0m         \u001B[0;32mreturn\u001B[0m \u001B[0mpyro\u001B[0m\u001B[0;34m.\u001B[0m\u001B[0msample\u001B[0m\u001B[0;34m(\u001B[0m\u001B[0;34m\"obs\"\u001B[0m\u001B[0;34m,\u001B[0m \u001B[0mdist\u001B[0m\u001B[0;34m.\u001B[0m\u001B[0mNormal\u001B[0m\u001B[0;34m(\u001B[0m\u001B[0mmean\u001B[0m\u001B[0;34m,\u001B[0m \u001B[0msigma\u001B[0m\u001B[0;34m)\u001B[0m\u001B[0;34m,\u001B[0m \u001B[0mobs\u001B[0m\u001B[0;34m=\u001B[0m\u001B[0mlog_gdp\u001B[0m\u001B[0;34m)\u001B[0m\u001B[0;34m\u001B[0m\u001B[0;34m\u001B[0m\u001B[0m\n\u001B[1;32m     15\u001B[0m \u001B[0;34m\u001B[0m\u001B[0m\n\u001B[0;32m---> 16\u001B[0;31m \u001B[0mpyro\u001B[0m\u001B[0;34m.\u001B[0m\u001B[0mrender_model\u001B[0m\u001B[0;34m(\u001B[0m\u001B[0msimple_model\u001B[0m\u001B[0;34m,\u001B[0m \u001B[0mmodel_args\u001B[0m\u001B[0;34m=\u001B[0m\u001B[0;34m(\u001B[0m\u001B[0mis_cont_africa\u001B[0m\u001B[0;34m,\u001B[0m \u001B[0mruggedness\u001B[0m\u001B[0;34m,\u001B[0m \u001B[0mlog_gdp\u001B[0m\u001B[0;34m)\u001B[0m\u001B[0;34m,\u001B[0m \u001B[0mrender_parameters\u001B[0m\u001B[0;34m=\u001B[0m\u001B[0;32mTrue\u001B[0m\u001B[0;34m)\u001B[0m\u001B[0;34m\u001B[0m\u001B[0;34m\u001B[0m\u001B[0m\n\u001B[0m",
      "\u001B[0;31mTypeError\u001B[0m: render_model() got an unexpected keyword argument 'render_parameters'"
     ]
    }
   ],
   "execution_count": 20,
   "metadata": {
    "collapsed": false
   }
  },
  {
   "cell_type": "markdown",
   "source": [
    "### Sampling or posterior evaluation"
   ],
   "metadata": {
    "collapsed": false
   }
  },
  {
   "cell_type": "markdown",
   "source": [
    "Calling the simple_model without an argument, finally calls\n",
    "\n",
    "```\n",
    " return pyro.sample(\"obs\", dist.Normal(mean, sigma), obs=log_gdp)\n",
    "```\n",
    "\n",
    "If `log_gdp=None` than a sample is drawn. Therefore, you get different results for the two calls below"
   ],
   "metadata": {
    "collapsed": false
   }
  },
  {
   "cell_type": "code",
   "source": [
    "simple_model(is_cont_africa, ruggedness)[0:3],simple_model(is_cont_africa, ruggedness)[0:3]"
   ],
   "outputs": [
    {
     "data": {
      "text/plain": "(tensor([ 1.2104, -0.9226, -0.6812], grad_fn=<SliceBackward0>),\n tensor([ 2.5731, -1.7215, -0.5911], grad_fn=<SliceBackward0>))"
     },
     "execution_count": 6,
     "metadata": {},
     "output_type": "execute_result"
    }
   ],
   "execution_count": 6,
   "metadata": {
    "collapsed": false
   }
  },
  {
   "cell_type": "code",
   "source": [
    "simple_model(is_cont_africa, ruggedness, log_gdp)[0:3],simple_model(is_cont_africa, ruggedness, log_gdp)[0:3] #Calcluates the posterior"
   ],
   "outputs": [
    {
     "data": {
      "text/plain": "(tensor([7.4926, 8.2169, 9.9333]), tensor([7.4926, 8.2169, 9.9333]))"
     },
     "execution_count": 7,
     "metadata": {},
     "output_type": "execute_result"
    }
   ],
   "execution_count": 7,
   "metadata": {
    "collapsed": false
   }
  },
  {
   "cell_type": "markdown",
   "source": [
    "### Persistence of parameters\n",
    "\n",
    "The parameters are values that need to be updated by an external optimization or so. Therefore they are stored in a central place and\n",
    "`pyro.param` values persist across model calls, unless the parameter store is updated by an optimization algorithm or cleared via `pyro.clear_param_store()`.\n"
   ],
   "metadata": {
    "collapsed": false
   }
  },
  {
   "cell_type": "code",
   "source": [
    "pyro.get_param_store().get_param('bA'),pyro.get_param_store().get_param('bA')"
   ],
   "outputs": [
    {
     "data": {
      "text/plain": "(tensor(0.3333, requires_grad=True), tensor(0.3333, requires_grad=True))"
     },
     "execution_count": 8,
     "metadata": {},
     "output_type": "execute_result"
    }
   ],
   "execution_count": 8,
   "metadata": {
    "collapsed": false
   }
  },
  {
   "cell_type": "markdown",
   "source": [
    "### The plate statement"
   ],
   "metadata": {
    "collapsed": false
   }
  },
  {
   "cell_type": "markdown",
   "source": [
    "Think of plates as for loops. But internaly pyro uses thinks like broadcasting happens for parallel excecution and the stuff is fast as hell."
   ],
   "metadata": {
    "collapsed": false
   }
  },
  {
   "cell_type": "markdown",
   "source": [
    "### Going Bayesian\n",
    "Just replace the parameters variables (`pyro.sample`)"
   ],
   "metadata": {
    "collapsed": false
   }
  },
  {
   "cell_type": "code",
   "source": [
    "def model(is_cont_africa, ruggedness, log_gdp=None):\n",
    "    a = pyro.sample(\"a\", dist.Normal(0., 10.))\n",
    "    b_a = pyro.sample(\"bA\", dist.Normal(0., 1.))\n",
    "    b_r = pyro.sample(\"bR\", dist.Normal(0., 1.))\n",
    "    b_ar = pyro.sample(\"bAR\", dist.Normal(0., 1.))\n",
    "    sigma = pyro.sample(\"sigma\", v)\n",
    "\n",
    "    mean = a + b_a * is_cont_africa + b_r * ruggedness + b_ar * is_cont_africa * ruggedness\n",
    "\n",
    "    with pyro.plate(\"data\", len(ruggedness)):\n",
    "        return pyro.sample(\"obs\", dist.Normal(mean, sigma), obs=log_gdp)\n",
    "\n",
    "pyro.render_model(model, model_args=(is_cont_africa, ruggedness, log_gdp), render_distributions=True)"
   ],
   "outputs": [
    {
     "data": {
      "image/svg+xml": "<?xml version=\"1.0\" encoding=\"UTF-8\" standalone=\"no\"?>\n<!DOCTYPE svg PUBLIC \"-//W3C//DTD SVG 1.1//EN\"\n \"http://www.w3.org/Graphics/SVG/1.1/DTD/svg11.dtd\">\n<!-- Generated by graphviz version 2.40.1 (20161225.0304)\n -->\n<!-- Title: %3 Pages: 1 -->\n<svg width=\"488pt\" height=\"210pt\"\n viewBox=\"0.00 0.00 488.11 210.00\" xmlns=\"http://www.w3.org/2000/svg\" xmlns:xlink=\"http://www.w3.org/1999/xlink\">\n<g id=\"graph0\" class=\"graph\" transform=\"scale(1 1) rotate(0) translate(4 206)\">\n<title>%3</title>\n<polygon fill=\"#ffffff\" stroke=\"transparent\" points=\"-4,4 -4,-206 484.1147,-206 484.1147,4 -4,4\"/>\n<g id=\"clust1\" class=\"cluster\">\n<title>cluster_data</title>\n<polygon fill=\"none\" stroke=\"#000000\" points=\"136,-8 136,-82 206,-82 206,-8 136,-8\"/>\n<text text-anchor=\"middle\" x=\"186.3413\" y=\"-14.8\" font-family=\"Times,serif\" font-size=\"14.00\" fill=\"#000000\">data</text>\n</g>\n<!-- a -->\n<g id=\"node1\" class=\"node\">\n<title>a</title>\n<ellipse fill=\"#ffffff\" stroke=\"#000000\" cx=\"27\" cy=\"-156\" rx=\"27\" ry=\"18\"/>\n<text text-anchor=\"middle\" x=\"27\" y=\"-151.8\" font-family=\"Times,serif\" font-size=\"14.00\" fill=\"#000000\">a</text>\n</g>\n<!-- obs -->\n<g id=\"node6\" class=\"node\">\n<title>obs</title>\n<ellipse fill=\"#c0c0c0\" stroke=\"#000000\" cx=\"171\" cy=\"-56\" rx=\"27\" ry=\"18\"/>\n<text text-anchor=\"middle\" x=\"171\" y=\"-51.8\" font-family=\"Times,serif\" font-size=\"14.00\" fill=\"#000000\">obs</text>\n</g>\n<!-- a&#45;&gt;obs -->\n<g id=\"edge4\" class=\"edge\">\n<title>a&#45;&gt;obs</title>\n<path fill=\"none\" stroke=\"#000000\" d=\"M37.462,-139.1608C43.9493,-129.7144 52.9493,-118.2144 63,-110 85.34,-91.7416 114.8756,-77.5073 137.4123,-68.2476\"/>\n<polygon fill=\"#000000\" stroke=\"#000000\" points=\"138.9149,-71.4167 146.9117,-64.4667 136.3262,-64.9129 138.9149,-71.4167\"/>\n</g>\n<!-- bA -->\n<g id=\"node2\" class=\"node\">\n<title>bA</title>\n<ellipse fill=\"#ffffff\" stroke=\"#000000\" cx=\"99\" cy=\"-156\" rx=\"27\" ry=\"18\"/>\n<text text-anchor=\"middle\" x=\"99\" y=\"-151.8\" font-family=\"Times,serif\" font-size=\"14.00\" fill=\"#000000\">bA</text>\n</g>\n<!-- bA&#45;&gt;obs -->\n<g id=\"edge3\" class=\"edge\">\n<title>bA&#45;&gt;obs</title>\n<path fill=\"none\" stroke=\"#000000\" d=\"M110.8893,-139.487C122.3538,-123.5642 139.8558,-99.2559 153.0228,-80.9683\"/>\n<polygon fill=\"#000000\" stroke=\"#000000\" points=\"156.0903,-82.6979 159.093,-72.5375 150.4095,-78.6078 156.0903,-82.6979\"/>\n</g>\n<!-- bR -->\n<g id=\"node3\" class=\"node\">\n<title>bR</title>\n<ellipse fill=\"#ffffff\" stroke=\"#000000\" cx=\"171\" cy=\"-156\" rx=\"27\" ry=\"18\"/>\n<text text-anchor=\"middle\" x=\"171\" y=\"-151.8\" font-family=\"Times,serif\" font-size=\"14.00\" fill=\"#000000\">bR</text>\n</g>\n<!-- bR&#45;&gt;obs -->\n<g id=\"edge1\" class=\"edge\">\n<title>bR&#45;&gt;obs</title>\n<path fill=\"none\" stroke=\"#000000\" d=\"M171,-137.6585C171,-122.7164 171,-101.3665 171,-84.2446\"/>\n<polygon fill=\"#000000\" stroke=\"#000000\" points=\"174.5001,-84.2252 171,-74.2253 167.5001,-84.2253 174.5001,-84.2252\"/>\n</g>\n<!-- bAR -->\n<g id=\"node4\" class=\"node\">\n<title>bAR</title>\n<ellipse fill=\"#ffffff\" stroke=\"#000000\" cx=\"243\" cy=\"-156\" rx=\"27\" ry=\"18\"/>\n<text text-anchor=\"middle\" x=\"243\" y=\"-151.8\" font-family=\"Times,serif\" font-size=\"14.00\" fill=\"#000000\">bAR</text>\n</g>\n<!-- bAR&#45;&gt;obs -->\n<g id=\"edge5\" class=\"edge\">\n<title>bAR&#45;&gt;obs</title>\n<path fill=\"none\" stroke=\"#000000\" d=\"M231.1107,-139.487C219.6462,-123.5642 202.1442,-99.2559 188.9772,-80.9683\"/>\n<polygon fill=\"#000000\" stroke=\"#000000\" points=\"191.5905,-78.6078 182.907,-72.5375 185.9097,-82.6979 191.5905,-78.6078\"/>\n</g>\n<!-- sigma -->\n<g id=\"node5\" class=\"node\">\n<title>sigma</title>\n<ellipse fill=\"#ffffff\" stroke=\"#000000\" cx=\"319\" cy=\"-156\" rx=\"31.4636\" ry=\"18\"/>\n<text text-anchor=\"middle\" x=\"319\" y=\"-151.8\" font-family=\"Times,serif\" font-size=\"14.00\" fill=\"#000000\">sigma</text>\n</g>\n<!-- sigma&#45;&gt;obs -->\n<g id=\"edge2\" class=\"edge\">\n<title>sigma&#45;&gt;obs</title>\n<path fill=\"none\" stroke=\"#000000\" d=\"M307.0302,-139.2239C299.707,-129.7986 289.707,-118.2986 279,-110 256.1955,-92.3251 226.695,-78.0468 204.2898,-68.6218\"/>\n<polygon fill=\"#000000\" stroke=\"#000000\" points=\"205.4346,-65.3087 194.8539,-64.7612 202.7839,-71.7874 205.4346,-65.3087\"/>\n</g>\n<!-- distribution_description_node -->\n<g id=\"node7\" class=\"node\">\n<title>distribution_description_node</title>\n<text text-anchor=\"start\" x=\"375.8853\" y=\"-186.8\" font-family=\"Times,serif\" font-size=\"14.00\" fill=\"#000000\">a ~ Normal</text>\n<text text-anchor=\"start\" x=\"375.8853\" y=\"-172.8\" font-family=\"Times,serif\" font-size=\"14.00\" fill=\"#000000\">bA ~ Normal</text>\n<text text-anchor=\"start\" x=\"375.8853\" y=\"-158.8\" font-family=\"Times,serif\" font-size=\"14.00\" fill=\"#000000\">bR ~ Normal</text>\n<text text-anchor=\"start\" x=\"375.8853\" y=\"-144.8\" font-family=\"Times,serif\" font-size=\"14.00\" fill=\"#000000\">bAR ~ Normal</text>\n<text text-anchor=\"start\" x=\"375.8853\" y=\"-130.8\" font-family=\"Times,serif\" font-size=\"14.00\" fill=\"#000000\">sigma ~ Uniform</text>\n<text text-anchor=\"start\" x=\"375.8853\" y=\"-116.8\" font-family=\"Times,serif\" font-size=\"14.00\" fill=\"#000000\">obs ~ Normal</text>\n</g>\n</g>\n</svg>\n",
      "text/plain": "<graphviz.graphs.Digraph at 0x7fb1f8ee1c70>"
     },
     "execution_count": 9,
     "metadata": {},
     "output_type": "execute_result"
    }
   ],
   "execution_count": 9,
   "metadata": {
    "collapsed": false
   }
  },
  {
   "cell_type": "code",
   "execution_count": 10,
   "outputs": [
    {
     "data": {
      "text/plain": "(tensor([ 0.8393,  0.0526, -0.7234], grad_fn=<SliceBackward0>),\n tensor([ 0.7688, -0.4169, -0.6394], grad_fn=<SliceBackward0>))"
     },
     "execution_count": 10,
     "metadata": {},
     "output_type": "execute_result"
    }
   ],
   "source": [
    "simple_model(is_cont_africa, ruggedness)[0:3],simple_model(is_cont_africa, ruggedness)[0:3]"
   ],
   "metadata": {
    "collapsed": false
   }
  },
  {
   "cell_type": "code",
   "execution_count": 11,
   "outputs": [
    {
     "data": {
      "text/plain": "(tensor([7.4926, 8.2169, 9.9333]), tensor([7.4926, 8.2169, 9.9333]))"
     },
     "execution_count": 11,
     "metadata": {},
     "output_type": "execute_result"
    }
   ],
   "source": [
    "simple_model(is_cont_africa, ruggedness, log_gdp)[0:3],simple_model(is_cont_africa, ruggedness, log_gdp)[0:3]"
   ],
   "metadata": {
    "collapsed": false
   }
  },
  {
   "cell_type": "markdown",
   "source": [
    "# Variational Inference and Guides\n",
    "\n",
    "The variational distribtion has to be defined in a guide. It needs to provide a valid joint probability for all random variables present in the model. The names of the random variables in a guide  need to match.\n",
    "\n",
    "```\n",
    "def model():\n",
    "    pyro.sample(\"z_1\", ...) #<-- z_1\n",
    "```\n",
    "\n",
    "The variables\n",
    "```\n",
    "def guide():\n",
    "    z_1_loc = pyro.param('z1_loc', lambda: torch.tensor(0.))\n",
    "    z_1_scale = pyro.param('z1_scale', lambda: torch.tensor(1.),\n",
    "                         constraint=constraints.positive)\n",
    "    pyro.sample(\"z_1\", dist.Normal(z_1_loc, z_1_scale) )#<-- z_1\n",
    "```\n",
    "\n",
    "The variables are described by one or more variational parameters."
   ],
   "metadata": {
    "collapsed": false
   }
  },
  {
   "cell_type": "code",
   "execution_count": 12,
   "outputs": [
    {
     "ename": "TypeError",
     "evalue": "render_model() got an unexpected keyword argument 'render_params'",
     "output_type": "error",
     "traceback": [
      "\u001B[0;31m---------------------------------------------------------------------------\u001B[0m",
      "\u001B[0;31mTypeError\u001B[0m                                 Traceback (most recent call last)",
      "\u001B[0;32m/var/folders/fz/m2rj_6v909n6crfwx0qjlps00000gn/T/ipykernel_64829/4093052973.py\u001B[0m in \u001B[0;36m<module>\u001B[0;34m\u001B[0m\n\u001B[1;32m     15\u001B[0m     \u001B[0;32mreturn\u001B[0m \u001B[0;34m{\u001B[0m\u001B[0;34m\"a\"\u001B[0m\u001B[0;34m:\u001B[0m \u001B[0ma\u001B[0m\u001B[0;34m,\u001B[0m \u001B[0;34m\"b_a\"\u001B[0m\u001B[0;34m:\u001B[0m \u001B[0mb_a\u001B[0m\u001B[0;34m,\u001B[0m \u001B[0;34m\"b_r\"\u001B[0m\u001B[0;34m:\u001B[0m \u001B[0mb_r\u001B[0m\u001B[0;34m,\u001B[0m \u001B[0;34m\"b_ar\"\u001B[0m\u001B[0;34m:\u001B[0m \u001B[0mb_ar\u001B[0m\u001B[0;34m,\u001B[0m \u001B[0;34m\"sigma\"\u001B[0m\u001B[0;34m:\u001B[0m \u001B[0msigma\u001B[0m\u001B[0;34m}\u001B[0m\u001B[0;34m\u001B[0m\u001B[0;34m\u001B[0m\u001B[0m\n\u001B[1;32m     16\u001B[0m \u001B[0;34m\u001B[0m\u001B[0m\n\u001B[0;32m---> 17\u001B[0;31m \u001B[0mpyro\u001B[0m\u001B[0;34m.\u001B[0m\u001B[0mrender_model\u001B[0m\u001B[0;34m(\u001B[0m\u001B[0mcustom_guide\u001B[0m\u001B[0;34m,\u001B[0m \u001B[0mmodel_args\u001B[0m\u001B[0;34m=\u001B[0m\u001B[0;34m(\u001B[0m\u001B[0mis_cont_africa\u001B[0m\u001B[0;34m,\u001B[0m \u001B[0mruggedness\u001B[0m\u001B[0;34m,\u001B[0m \u001B[0mlog_gdp\u001B[0m\u001B[0;34m)\u001B[0m\u001B[0;34m,\u001B[0m \u001B[0mrender_params\u001B[0m\u001B[0;34m=\u001B[0m\u001B[0;32mTrue\u001B[0m\u001B[0;34m)\u001B[0m\u001B[0;34m\u001B[0m\u001B[0;34m\u001B[0m\u001B[0m\n\u001B[0m",
      "\u001B[0;31mTypeError\u001B[0m: render_model() got an unexpected keyword argument 'render_params'"
     ]
    }
   ],
   "source": [
    "def custom_guide(is_cont_africa, ruggedness, log_gdp=None):\n",
    "    a_loc = pyro.param('a_loc', lambda: torch.tensor(0.))\n",
    "    a_scale = pyro.param('a_scale', lambda: torch.tensor(1.),\n",
    "                         constraint=constraints.positive)\n",
    "    sigma_loc = pyro.param('sigma_loc', lambda: torch.tensor(1.),\n",
    "                             constraint=constraints.positive)\n",
    "    weights_loc = pyro.param('weights_loc', lambda: torch.randn(3))\n",
    "    weights_scale = pyro.param('weights_scale', lambda: torch.ones(3),\n",
    "                               constraint=constraints.positive)\n",
    "    a = pyro.sample(\"a\", dist.Normal(a_loc, a_scale))\n",
    "    b_a = pyro.sample(\"bA\", dist.Normal(weights_loc[0], weights_scale[0]))\n",
    "    b_r = pyro.sample(\"bR\", dist.Normal(weights_loc[1], weights_scale[1]))\n",
    "    b_ar = pyro.sample(\"bAR\", dist.Normal(weights_loc[2], weights_scale[2]))\n",
    "    sigma = pyro.sample(\"sigma\", dist.Normal(sigma_loc, torch.tensor(0.05)))\n",
    "    return {\"a\": a, \"b_a\": b_a, \"b_r\": b_r, \"b_ar\": b_ar, \"sigma\": sigma}\n",
    "\n",
    "pyro.render_model(custom_guide, model_args=(is_cont_africa, ruggedness, log_gdp), render_params=True)"
   ],
   "metadata": {
    "collapsed": false
   }
  },
  {
   "cell_type": "markdown",
   "source": [
    "#### Inference"
   ],
   "metadata": {
    "collapsed": false
   }
  },
  {
   "cell_type": "code",
   "execution_count": 13,
   "outputs": [
    {
     "name": "stdout",
     "output_type": "stream",
     "text": [
      "CPU times: user 19.7 s, sys: 145 ms, total: 19.8 s\n",
      "Wall time: 20 s\n"
     ]
    },
    {
     "data": {
      "text/plain": "Text(0, 0.5, 'ELBO loss')"
     },
     "execution_count": 13,
     "metadata": {},
     "output_type": "execute_result"
    },
    {
     "data": {
      "text/plain": "<Figure size 360x144 with 1 Axes>",
      "image/png": "[encoded data removed]"
     },
     "metadata": {},
     "output_type": "display_data"
    }
   ],
   "source": [
    "%%time\n",
    "pyro.clear_param_store() #Delete all existing parameters\n",
    "adam = pyro.optim.Adam({\"lr\": 0.02})\n",
    "elbo = pyro.infer.Trace_ELBO()\n",
    "svi = pyro.infer.SVI(model, custom_guide, adam, elbo)\n",
    "\n",
    "losses = []\n",
    "for step in range(5000):  # Consider running for more steps.\n",
    "    loss = svi.step(is_cont_africa, ruggedness, log_gdp)\n",
    "    losses.append(loss)\n",
    "    if step % 100 == 0:\n",
    "        logging.info(\"Elbo loss: {}\".format(loss))\n",
    "\n",
    "plt.figure(figsize=(5, 2))\n",
    "plt.plot(losses)\n",
    "plt.xlabel(\"SVI step\")\n",
    "plt.ylabel(\"ELBO loss\");"
   ],
   "metadata": {
    "collapsed": false
   }
  },
  {
   "cell_type": "code",
   "execution_count": 14,
   "outputs": [
    {
     "name": "stdout",
     "output_type": "stream",
     "text": [
      "a_loc 9.209679\n",
      "a_scale 0.07542984\n",
      "sigma_loc 0.94821763\n",
      "weights_loc [-1.7685301  -0.1522772   0.37994066]\n",
      "weights_scale [0.13912408 0.0407176  0.07900739]\n"
     ]
    }
   ],
   "source": [
    "for name, value in pyro.get_param_store().items():\n",
    "    print(name, pyro.param(name).data.cpu().numpy())"
   ],
   "metadata": {
    "collapsed": false
   }
  },
  {
   "cell_type": "markdown",
   "source": [
    "### MCMC Simulations"
   ],
   "metadata": {
    "collapsed": false
   }
  },
  {
   "cell_type": "markdown",
   "source": [],
   "metadata": {
    "collapsed": false
   }
  },
  {
   "cell_type": "code",
   "execution_count": 15,
   "outputs": [
    {
     "name": "stderr",
     "output_type": "stream",
     "text": [
      "Sample: 100%|██████████| 1000/1000 [00:20, 48.54it/s, step size=3.56e-01, acc. prob=0.925]\n"
     ]
    }
   ],
   "source": [
    "#### MCMC ####\n",
    "from pyro.infer import MCMC, NUTS\n",
    "nuts_kernel = NUTS(model)\n",
    "mcmc = MCMC(nuts_kernel, num_samples=500, warmup_steps=500)\n",
    "mcmc.run(is_cont_africa, ruggedness, log_gdp)"
   ],
   "metadata": {
    "collapsed": false
   }
  },
  {
   "cell_type": "code",
   "execution_count": 16,
   "outputs": [
    {
     "data": {
      "text/plain": "{'a': OrderedDict([('n_eff', tensor(210.4487)), ('r_hat', tensor(1.0013))]),\n 'bA': OrderedDict([('n_eff', tensor(237.6241)), ('r_hat', tensor(0.9980))]),\n 'bAR': OrderedDict([('n_eff', tensor(235.7626)), ('r_hat', tensor(1.0010))]),\n 'bR': OrderedDict([('n_eff', tensor(186.8718)), ('r_hat', tensor(1.0104))]),\n 'sigma': OrderedDict([('n_eff', tensor(362.4366)),\n              ('r_hat', tensor(0.9980))]),\n 'divergences': {'chain 0': []},\n 'acceptance rate': {'chain 0': 0.998}}"
     },
     "execution_count": 16,
     "metadata": {},
     "output_type": "execute_result"
    }
   ],
   "source": [
    "mcmc.diagnostics()"
   ],
   "metadata": {
    "collapsed": false
   }
  },
  {
   "cell_type": "code",
   "execution_count": 17,
   "outputs": [
    {
     "data": {
      "text/plain": "(9.1784115, 0.13632008)"
     },
     "execution_count": 17,
     "metadata": {},
     "output_type": "execute_result"
    },
    {
     "data": {
      "text/plain": "<Figure size 432x288 with 1 Axes>",
      "image/png": "[encoded data removed]"
     },
     "metadata": {},
     "output_type": "display_data"
    }
   ],
   "source": [
    "hmc_samples = {k: v.detach().cpu().numpy() for k, v in mcmc.get_samples().items()}\n",
    "plt.hist(hmc_samples.get('a'), 30);\n",
    "np.mean(hmc_samples.get('a')), np.std(hmc_samples.get('a'))"
   ],
   "metadata": {
    "collapsed": false
   }
  },
  {
   "cell_type": "markdown",
   "source": [],
   "metadata": {
    "collapsed": false
   }
  },
  {
   "cell_type": "code",
   "execution_count": 17,
   "outputs": [],
   "source": [],
   "metadata": {
    "collapsed": false
   }
  },
  {
   "cell_type": "markdown",
   "source": [
    "### Posterior Predictive Checks\n",
    "\n",
    "There are convenience functions for the posterior predictive (see also https://pyro.ai/examples/intro_long.html#Example:-posterior-predictive-uncertainty-in-Pyro)"
   ],
   "metadata": {
    "collapsed": false
   }
  },
  {
   "cell_type": "code",
   "execution_count": 18,
   "outputs": [],
   "source": [
    "predictive = pyro.infer.Predictive(model, guide=custom_guide, num_samples=800)\n",
    "svi_samples = predictive(is_cont_africa, ruggedness, log_gdp=None)"
   ],
   "metadata": {
    "collapsed": false
   }
  },
  {
   "cell_type": "code",
   "execution_count": 19,
   "outputs": [
    {
     "ename": "KeyError",
     "evalue": "'rugged'",
     "output_type": "error",
     "traceback": [
      "\u001B[0;31m---------------------------------------------------------------------------\u001B[0m",
      "\u001B[0;31mKeyError\u001B[0m                                  Traceback (most recent call last)",
      "\u001B[0;32m/var/folders/fz/m2rj_6v909n6crfwx0qjlps00000gn/T/ipykernel_64829/3764598335.py\u001B[0m in \u001B[0;36m<module>\u001B[0;34m\u001B[0m\n\u001B[0;32m----> 1\u001B[0;31m \u001B[0msvi_samples\u001B[0m\u001B[0;34m[\u001B[0m\u001B[0;34m\"obs\"\u001B[0m\u001B[0;34m]\u001B[0m\u001B[0;34m.\u001B[0m\u001B[0mshape\u001B[0m\u001B[0;34m,\u001B[0m \u001B[0msvi_samples\u001B[0m\u001B[0;34m[\u001B[0m\u001B[0;34m\"rugged\"\u001B[0m\u001B[0;34m]\u001B[0m\u001B[0;34m\u001B[0m\u001B[0;34m\u001B[0m\u001B[0m\n\u001B[0m",
      "\u001B[0;31mKeyError\u001B[0m: 'rugged'"
     ]
    }
   ],
   "source": [
    "svi_samples[\"obs\"].shape, svi_samples[\"rugged\"]"
   ],
   "metadata": {
    "collapsed": false
   }
  },
  {
   "cell_type": "code",
   "execution_count": null,
   "outputs": [],
   "source": [],
   "metadata": {
    "collapsed": false
   }
  }
 ],
 "metadata": {
  "kernelspec": {
   "name": "python3",
   "language": "python",
   "display_name": "Python 3"
  },
  "language_info": {
   "name": "python",
   "version": "3.8.8",
   "mimetype": "text/x-python",
   "codemirror_mode": {
    "name": "ipython",
    "version": 3
   },
   "pygments_lexer": "ipython3",
   "nbconvert_exporter": "python",
   "file_extension": ".py"
  },
  "kernel_info": {
   "name": "python3"
  }
 },
 "nbformat": 4,
 "nbformat_minor": 0
}
