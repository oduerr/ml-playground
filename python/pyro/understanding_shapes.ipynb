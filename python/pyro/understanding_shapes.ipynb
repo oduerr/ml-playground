{
 "cells": [
  {
   "cell_type": "code",
   "execution_count": 1,
   "metadata": {
    "collapsed": true
   },
   "outputs": [],
   "source": [
    "import pyro\n",
    "from pyro.distributions import LogNormal, Categorical, MultivariateNormal, Normal\n",
    "import torch\n",
    "import pyro.poutine as poutine\n",
    "import pandas as pd\n",
    "import numpy as np\n",
    "import logging"
   ]
  },
  {
   "cell_type": "markdown",
   "source": [
    "## Understanding shapes\n",
    "\n",
    "### Torch Tensors\n",
    "Torch Tensors have shapes. These are important for example when it comes to broadcasting."
   ],
   "metadata": {
    "collapsed": false
   }
  },
  {
   "cell_type": "markdown",
   "source": [
    "#### Broadcasting\n",
    "Broadcasting heavily relies on shapes"
   ],
   "metadata": {
    "collapsed": false
   }
  },
  {
   "cell_type": "code",
   "execution_count": 2,
   "outputs": [
    {
     "data": {
      "text/plain": "tensor([[2., 2., 2.],\n        [2., 2., 2.]])"
     },
     "execution_count": 2,
     "metadata": {},
     "output_type": "execute_result"
    }
   ],
   "source": [
    "#### Simple examples for broadcasting\n",
    "A = torch.ones(2, 3)\n",
    "A.shape #10,3\n",
    "B = torch.ones(2, 3)\n",
    "A + B"
   ],
   "metadata": {
    "collapsed": false
   }
  },
  {
   "cell_type": "markdown",
   "source": [
    "How can I add one to the first row in A and 2 to the second"
   ],
   "metadata": {
    "collapsed": false
   }
  },
  {
   "cell_type": "code",
   "execution_count": 3,
   "outputs": [
    {
     "data": {
      "text/plain": "tensor([[2., 2., 2.],\n        [3., 3., 3.]])"
     },
     "execution_count": 3,
     "metadata": {},
     "output_type": "execute_result"
    }
   ],
   "source": [
    "B = torch.tensor([[1],[2]]) #2,1 Tensor\n",
    "A + B"
   ],
   "metadata": {
    "collapsed": false
   }
  },
  {
   "cell_type": "code",
   "execution_count": 10,
   "outputs": [
    {
     "data": {
      "text/plain": "torch.Size([3, 4, 5])"
     },
     "execution_count": 10,
     "metadata": {},
     "output_type": "execute_result"
    }
   ],
   "source": [
    "dd = torch.ones(3,4,5) + torch.ones(5)\n",
    "dd.shape"
   ],
   "metadata": {
    "collapsed": false
   }
  },
  {
   "cell_type": "markdown",
   "source": [
    "For more complex examples, see https://pytorch.org/docs/master/notes/broadcasting.html"
   ],
   "metadata": {
    "collapsed": false
   }
  },
  {
   "cell_type": "markdown",
   "source": [
    "###  Distributions have additional shapes\n",
    "\n",
    "In order to tell, with (parts of) Variables are independ, distributions have addtional shapes."
   ],
   "metadata": {
    "collapsed": false
   }
  },
  {
   "cell_type": "code",
   "execution_count": 13,
   "outputs": [
    {
     "data": {
      "text/plain": "(torch.Size([2, 1]), torch.Size([]))"
     },
     "execution_count": 13,
     "metadata": {},
     "output_type": "execute_result"
    }
   ],
   "source": [
    "B.shape #[2,1]\n",
    "dist = Normal(B*1,1) #These are independend\n",
    "dist.batch_shape, dist.event_shape"
   ],
   "metadata": {
    "collapsed": false
   }
  },
  {
   "cell_type": "code",
   "execution_count": 5,
   "outputs": [
    {
     "data": {
      "text/plain": "(torch.Size([]), torch.Size([2]))"
     },
     "execution_count": 5,
     "metadata": {},
     "output_type": "execute_result"
    }
   ],
   "source": [
    "dist1 = MultivariateNormal(torch.zeros((2)),torch.eye(2,2))\n",
    "dist1.batch_shape, dist1.event_shape"
   ],
   "metadata": {
    "collapsed": false
   }
  },
  {
   "cell_type": "markdown",
   "source": [
    "The batch shape describes independ Variables. The variables in the Event shape are (or better can be) depended."
   ],
   "metadata": {
    "collapsed": false
   }
  },
  {
   "cell_type": "markdown",
   "source": [
    "Samples from distribution"
   ],
   "metadata": {
    "collapsed": false
   }
  },
  {
   "cell_type": "code",
   "execution_count": 8,
   "outputs": [
    {
     "data": {
      "text/plain": "tensor([0.9579, 0.0612])"
     },
     "execution_count": 8,
     "metadata": {},
     "output_type": "execute_result"
    }
   ],
   "source": [
    "b = pyro.sample(\"b\", dist1)\n",
    "b #b.batch_shape"
   ],
   "metadata": {
    "collapsed": false
   }
  },
  {
   "cell_type": "markdown",
   "source": [
    "## Debugging models\n"
   ],
   "metadata": {
    "collapsed": false
   }
  },
  {
   "cell_type": "code",
   "execution_count": 76,
   "outputs": [
    {
     "name": "stdout",
     "output_type": "stream",
     "text": [
      "Trace Shapes:        \n",
      " Param Sites:        \n",
      "Sample Sites:        \n",
      "       b dist     | 3\n",
      "        value     | 3\n",
      "     log_prob     |  \n",
      "       s dist     | 3\n",
      "        value     | 3\n",
      "     log_prob     |  \n",
      "   sigma dist     |  \n",
      "        value     |  \n",
      "     log_prob     |  \n",
      "    data dist     |  \n",
      "        value   4 |  \n",
      "     log_prob     |  \n",
      "     obs dist   4 |  \n",
      "        value 4 1 |  \n",
      "     log_prob 4 4 |  \n",
      "-------------     \n"
     ]
    },
    {
     "ename": "ValueError",
     "evalue": "at site \"obs\", invalid log_prob shape\n  Expected [], actual [4, 4]\n  Try one of the following fixes:\n  - enclose the batched tensor in a with pyro.plate(...): context\n  - .to_event(...) the distribution being sampled\n  - .permute() data dimensions",
     "output_type": "error",
     "traceback": [
      "\u001B[0;31m---------------------------------------------------------------------------\u001B[0m",
      "\u001B[0;31mValueError\u001B[0m                                Traceback (most recent call last)",
      "\u001B[0;32m/var/folders/fz/m2rj_6v909n6crfwx0qjlps00000gn/T/ipykernel_43348/428765703.py\u001B[0m in \u001B[0;36m<module>\u001B[0;34m\u001B[0m\n\u001B[1;32m     24\u001B[0m \u001B[0melbo\u001B[0m \u001B[0;34m=\u001B[0m \u001B[0mpyro\u001B[0m\u001B[0;34m.\u001B[0m\u001B[0minfer\u001B[0m\u001B[0;34m.\u001B[0m\u001B[0mTrace_ELBO\u001B[0m\u001B[0;34m(\u001B[0m\u001B[0;34m)\u001B[0m\u001B[0;34m\u001B[0m\u001B[0;34m\u001B[0m\u001B[0m\n\u001B[1;32m     25\u001B[0m \u001B[0msvi\u001B[0m \u001B[0;34m=\u001B[0m \u001B[0mpyro\u001B[0m\u001B[0;34m.\u001B[0m\u001B[0minfer\u001B[0m\u001B[0;34m.\u001B[0m\u001B[0mSVI\u001B[0m\u001B[0;34m(\u001B[0m\u001B[0mmodel\u001B[0m\u001B[0;34m,\u001B[0m \u001B[0mauto_guide\u001B[0m\u001B[0;34m,\u001B[0m \u001B[0madam\u001B[0m\u001B[0;34m,\u001B[0m \u001B[0melbo\u001B[0m\u001B[0;34m)\u001B[0m\u001B[0;34m\u001B[0m\u001B[0;34m\u001B[0m\u001B[0m\n\u001B[0;32m---> 26\u001B[0;31m \u001B[0mloss\u001B[0m \u001B[0;34m=\u001B[0m \u001B[0msvi\u001B[0m\u001B[0;34m.\u001B[0m\u001B[0mstep\u001B[0m\u001B[0;34m(\u001B[0m\u001B[0mX\u001B[0m\u001B[0;34m,\u001B[0m \u001B[0my\u001B[0m\u001B[0;34m)\u001B[0m\u001B[0;34m\u001B[0m\u001B[0;34m\u001B[0m\u001B[0m\n\u001B[0m",
      "\u001B[0;32m~/anaconda3/envs/pyro/lib/python3.9/site-packages/pyro/infer/svi.py\u001B[0m in \u001B[0;36mstep\u001B[0;34m(self, *args, **kwargs)\u001B[0m\n\u001B[1;32m    143\u001B[0m         \u001B[0;31m# get loss and compute gradients\u001B[0m\u001B[0;34m\u001B[0m\u001B[0;34m\u001B[0m\u001B[0m\n\u001B[1;32m    144\u001B[0m         \u001B[0;32mwith\u001B[0m \u001B[0mpoutine\u001B[0m\u001B[0;34m.\u001B[0m\u001B[0mtrace\u001B[0m\u001B[0;34m(\u001B[0m\u001B[0mparam_only\u001B[0m\u001B[0;34m=\u001B[0m\u001B[0;32mTrue\u001B[0m\u001B[0;34m)\u001B[0m \u001B[0;32mas\u001B[0m \u001B[0mparam_capture\u001B[0m\u001B[0;34m:\u001B[0m\u001B[0;34m\u001B[0m\u001B[0;34m\u001B[0m\u001B[0m\n\u001B[0;32m--> 145\u001B[0;31m             \u001B[0mloss\u001B[0m \u001B[0;34m=\u001B[0m \u001B[0mself\u001B[0m\u001B[0;34m.\u001B[0m\u001B[0mloss_and_grads\u001B[0m\u001B[0;34m(\u001B[0m\u001B[0mself\u001B[0m\u001B[0;34m.\u001B[0m\u001B[0mmodel\u001B[0m\u001B[0;34m,\u001B[0m \u001B[0mself\u001B[0m\u001B[0;34m.\u001B[0m\u001B[0mguide\u001B[0m\u001B[0;34m,\u001B[0m \u001B[0;34m*\u001B[0m\u001B[0margs\u001B[0m\u001B[0;34m,\u001B[0m \u001B[0;34m**\u001B[0m\u001B[0mkwargs\u001B[0m\u001B[0;34m)\u001B[0m\u001B[0;34m\u001B[0m\u001B[0;34m\u001B[0m\u001B[0m\n\u001B[0m\u001B[1;32m    146\u001B[0m \u001B[0;34m\u001B[0m\u001B[0m\n\u001B[1;32m    147\u001B[0m         params = set(\n",
      "\u001B[0;32m~/anaconda3/envs/pyro/lib/python3.9/site-packages/pyro/infer/trace_elbo.py\u001B[0m in \u001B[0;36mloss_and_grads\u001B[0;34m(self, model, guide, *args, **kwargs)\u001B[0m\n\u001B[1;32m    138\u001B[0m         \u001B[0mloss\u001B[0m \u001B[0;34m=\u001B[0m \u001B[0;36m0.0\u001B[0m\u001B[0;34m\u001B[0m\u001B[0;34m\u001B[0m\u001B[0m\n\u001B[1;32m    139\u001B[0m         \u001B[0;31m# grab a trace from the generator\u001B[0m\u001B[0;34m\u001B[0m\u001B[0;34m\u001B[0m\u001B[0m\n\u001B[0;32m--> 140\u001B[0;31m         \u001B[0;32mfor\u001B[0m \u001B[0mmodel_trace\u001B[0m\u001B[0;34m,\u001B[0m \u001B[0mguide_trace\u001B[0m \u001B[0;32min\u001B[0m \u001B[0mself\u001B[0m\u001B[0;34m.\u001B[0m\u001B[0m_get_traces\u001B[0m\u001B[0;34m(\u001B[0m\u001B[0mmodel\u001B[0m\u001B[0;34m,\u001B[0m \u001B[0mguide\u001B[0m\u001B[0;34m,\u001B[0m \u001B[0margs\u001B[0m\u001B[0;34m,\u001B[0m \u001B[0mkwargs\u001B[0m\u001B[0;34m)\u001B[0m\u001B[0;34m:\u001B[0m\u001B[0;34m\u001B[0m\u001B[0;34m\u001B[0m\u001B[0m\n\u001B[0m\u001B[1;32m    141\u001B[0m             loss_particle, surrogate_loss_particle = self._differentiable_loss_particle(\n\u001B[1;32m    142\u001B[0m                 \u001B[0mmodel_trace\u001B[0m\u001B[0;34m,\u001B[0m \u001B[0mguide_trace\u001B[0m\u001B[0;34m\u001B[0m\u001B[0;34m\u001B[0m\u001B[0m\n",
      "\u001B[0;32m~/anaconda3/envs/pyro/lib/python3.9/site-packages/pyro/infer/elbo.py\u001B[0m in \u001B[0;36m_get_traces\u001B[0;34m(self, model, guide, args, kwargs)\u001B[0m\n\u001B[1;32m    180\u001B[0m         \u001B[0;32melse\u001B[0m\u001B[0;34m:\u001B[0m\u001B[0;34m\u001B[0m\u001B[0;34m\u001B[0m\u001B[0m\n\u001B[1;32m    181\u001B[0m             \u001B[0;32mfor\u001B[0m \u001B[0mi\u001B[0m \u001B[0;32min\u001B[0m \u001B[0mrange\u001B[0m\u001B[0;34m(\u001B[0m\u001B[0mself\u001B[0m\u001B[0;34m.\u001B[0m\u001B[0mnum_particles\u001B[0m\u001B[0;34m)\u001B[0m\u001B[0;34m:\u001B[0m\u001B[0;34m\u001B[0m\u001B[0;34m\u001B[0m\u001B[0m\n\u001B[0;32m--> 182\u001B[0;31m                 \u001B[0;32myield\u001B[0m \u001B[0mself\u001B[0m\u001B[0;34m.\u001B[0m\u001B[0m_get_trace\u001B[0m\u001B[0;34m(\u001B[0m\u001B[0mmodel\u001B[0m\u001B[0;34m,\u001B[0m \u001B[0mguide\u001B[0m\u001B[0;34m,\u001B[0m \u001B[0margs\u001B[0m\u001B[0;34m,\u001B[0m \u001B[0mkwargs\u001B[0m\u001B[0;34m)\u001B[0m\u001B[0;34m\u001B[0m\u001B[0;34m\u001B[0m\u001B[0m\n\u001B[0m",
      "\u001B[0;32m~/anaconda3/envs/pyro/lib/python3.9/site-packages/pyro/infer/trace_elbo.py\u001B[0m in \u001B[0;36m_get_trace\u001B[0;34m(self, model, guide, args, kwargs)\u001B[0m\n\u001B[1;32m     55\u001B[0m         \u001B[0magainst\u001B[0m \u001B[0mit\u001B[0m\u001B[0;34m.\u001B[0m\u001B[0;34m\u001B[0m\u001B[0;34m\u001B[0m\u001B[0m\n\u001B[1;32m     56\u001B[0m         \"\"\"\n\u001B[0;32m---> 57\u001B[0;31m         model_trace, guide_trace = get_importance_trace(\n\u001B[0m\u001B[1;32m     58\u001B[0m             \u001B[0;34m\"flat\"\u001B[0m\u001B[0;34m,\u001B[0m \u001B[0mself\u001B[0m\u001B[0;34m.\u001B[0m\u001B[0mmax_plate_nesting\u001B[0m\u001B[0;34m,\u001B[0m \u001B[0mmodel\u001B[0m\u001B[0;34m,\u001B[0m \u001B[0mguide\u001B[0m\u001B[0;34m,\u001B[0m \u001B[0margs\u001B[0m\u001B[0;34m,\u001B[0m \u001B[0mkwargs\u001B[0m\u001B[0;34m\u001B[0m\u001B[0;34m\u001B[0m\u001B[0m\n\u001B[1;32m     59\u001B[0m         )\n",
      "\u001B[0;32m~/anaconda3/envs/pyro/lib/python3.9/site-packages/pyro/infer/enum.py\u001B[0m in \u001B[0;36mget_importance_trace\u001B[0;34m(graph_type, max_plate_nesting, model, guide, args, kwargs, detach)\u001B[0m\n\u001B[1;32m     78\u001B[0m         \u001B[0;32mfor\u001B[0m \u001B[0msite\u001B[0m \u001B[0;32min\u001B[0m \u001B[0mmodel_trace\u001B[0m\u001B[0;34m.\u001B[0m\u001B[0mnodes\u001B[0m\u001B[0;34m.\u001B[0m\u001B[0mvalues\u001B[0m\u001B[0;34m(\u001B[0m\u001B[0;34m)\u001B[0m\u001B[0;34m:\u001B[0m\u001B[0;34m\u001B[0m\u001B[0;34m\u001B[0m\u001B[0m\n\u001B[1;32m     79\u001B[0m             \u001B[0;32mif\u001B[0m \u001B[0msite\u001B[0m\u001B[0;34m[\u001B[0m\u001B[0;34m\"type\"\u001B[0m\u001B[0;34m]\u001B[0m \u001B[0;34m==\u001B[0m \u001B[0;34m\"sample\"\u001B[0m\u001B[0;34m:\u001B[0m\u001B[0;34m\u001B[0m\u001B[0;34m\u001B[0m\u001B[0m\n\u001B[0;32m---> 80\u001B[0;31m                 \u001B[0mcheck_site_shape\u001B[0m\u001B[0;34m(\u001B[0m\u001B[0msite\u001B[0m\u001B[0;34m,\u001B[0m \u001B[0mmax_plate_nesting\u001B[0m\u001B[0;34m)\u001B[0m\u001B[0;34m\u001B[0m\u001B[0;34m\u001B[0m\u001B[0m\n\u001B[0m\u001B[1;32m     81\u001B[0m         \u001B[0;32mfor\u001B[0m \u001B[0msite\u001B[0m \u001B[0;32min\u001B[0m \u001B[0mguide_trace\u001B[0m\u001B[0;34m.\u001B[0m\u001B[0mnodes\u001B[0m\u001B[0;34m.\u001B[0m\u001B[0mvalues\u001B[0m\u001B[0;34m(\u001B[0m\u001B[0;34m)\u001B[0m\u001B[0;34m:\u001B[0m\u001B[0;34m\u001B[0m\u001B[0;34m\u001B[0m\u001B[0m\n\u001B[1;32m     82\u001B[0m             \u001B[0;32mif\u001B[0m \u001B[0msite\u001B[0m\u001B[0;34m[\u001B[0m\u001B[0;34m\"type\"\u001B[0m\u001B[0;34m]\u001B[0m \u001B[0;34m==\u001B[0m \u001B[0;34m\"sample\"\u001B[0m\u001B[0;34m:\u001B[0m\u001B[0;34m\u001B[0m\u001B[0;34m\u001B[0m\u001B[0m\n",
      "\u001B[0;32m~/anaconda3/envs/pyro/lib/python3.9/site-packages/pyro/util.py\u001B[0m in \u001B[0;36mcheck_site_shape\u001B[0;34m(site, max_plate_nesting)\u001B[0m\n\u001B[1;32m    435\u001B[0m     ):\n\u001B[1;32m    436\u001B[0m         \u001B[0;32mif\u001B[0m \u001B[0mexpected_size\u001B[0m \u001B[0;34m!=\u001B[0m \u001B[0;34m-\u001B[0m\u001B[0;36m1\u001B[0m \u001B[0;32mand\u001B[0m \u001B[0mexpected_size\u001B[0m \u001B[0;34m!=\u001B[0m \u001B[0mactual_size\u001B[0m\u001B[0;34m:\u001B[0m\u001B[0;34m\u001B[0m\u001B[0;34m\u001B[0m\u001B[0m\n\u001B[0;32m--> 437\u001B[0;31m             raise ValueError(\n\u001B[0m\u001B[1;32m    438\u001B[0m                 \"\\n  \".join(\n\u001B[1;32m    439\u001B[0m                     [\n",
      "\u001B[0;31mValueError\u001B[0m: at site \"obs\", invalid log_prob shape\n  Expected [], actual [4, 4]\n  Try one of the following fixes:\n  - enclose the batched tensor in a with pyro.plate(...): context\n  - .to_event(...) the distribution being sampled\n  - .permute() data dimensions"
     ]
    }
   ],
   "source": [
    "def model(X, y):\n",
    "    N = X.shape[0]\n",
    "    b = pyro.sample(\"b\", Normal(torch.zeros(3), torch.ones(3)).to_event(1))\n",
    "    s = pyro.sample(\"s\", LogNormal(torch.ones(3), 0.2*torch.ones(3)).to_event(1))\n",
    "    sigma = pyro.sample(\"sigma\", LogNormal(0, 1))\n",
    "    with pyro.plate(\"data\", N):\n",
    "        mu = (((X - b)*s) ** 2).sum(dim=1).sqrt()\n",
    "    return pyro.sample(\"obs\", Normal(mu, sigma), obs=y)\n",
    "\n",
    "X = torch.randn((4,3))\n",
    "y = torch.randn(4,1)\n",
    "\n",
    "pyro.clear_param_store()\n",
    "traced_model = poutine.trace(model)\n",
    "trace = poutine.trace(traced_model).get_trace(X, y)\n",
    "trace.compute_log_prob()\n",
    "print(trace.format_shapes())\n",
    "\n",
    "print(\"-------------     \")\n",
    "pyro.clear_param_store()\n",
    "auto_guide = pyro.infer.autoguide.AutoDelta(model)\n",
    "adam = pyro.optim.Adam({\"lr\": 0.02})  # Consider decreasing learning rate.\n",
    "#pyro.render_model(auto_guide, model_args=(X, y))\n",
    "elbo = pyro.infer.Trace_ELBO()\n",
    "svi = pyro.infer.SVI(model, auto_guide, adam, elbo)\n",
    "loss = svi.step(X, y)"
   ],
   "metadata": {
    "collapsed": false
   }
  },
  {
   "cell_type": "markdown",
   "source": [
    "VI relies on the shapes to be correct, while sampling the code above works, it's not possible to do variational inference, in the example above. To check the shapes, the following is possible"
   ],
   "metadata": {
    "collapsed": false
   }
  },
  {
   "cell_type": "code",
   "execution_count": 66,
   "outputs": [
    {
     "name": "stdout",
     "output_type": "stream",
     "text": [
      "Trace Shapes:        \n",
      " Param Sites:        \n",
      "Sample Sites:        \n",
      "       b dist     | 3\n",
      "        value     | 3\n",
      "     log_prob     |  \n",
      "       s dist     | 3\n",
      "        value     | 3\n",
      "     log_prob     |  \n",
      "   sigma dist     |  \n",
      "        value     |  \n",
      "     log_prob     |  \n",
      "    data dist     |  \n",
      "        value   4 |  \n",
      "     log_prob     |  \n",
      "     obs dist 4 4 |  \n",
      "        value   4 |  \n",
      "     log_prob 4 4 |  \n"
     ]
    }
   ],
   "source": [
    "import pyro.poutine as poutine\n",
    "traced_model = poutine.trace(model)\n",
    "trace = poutine.trace(traced_model).get_trace(X, y)\n",
    "trace.compute_log_prob()\n",
    "print(trace.format_shapes())"
   ],
   "metadata": {
    "collapsed": false
   }
  },
  {
   "cell_type": "code",
   "execution_count": 72,
   "outputs": [
    {
     "ename": "ValueError",
     "evalue": "at site \"obs\", invalid log_prob shape\n  Expected [], actual [4]\n  Try one of the following fixes:\n  - enclose the batched tensor in a with pyro.plate(...): context\n  - .to_event(...) the distribution being sampled\n  - .permute() data dimensions",
     "output_type": "error",
     "traceback": [
      "\u001B[0;31m---------------------------------------------------------------------------\u001B[0m",
      "\u001B[0;31mValueError\u001B[0m                                Traceback (most recent call last)",
      "\u001B[0;32m/var/folders/fz/m2rj_6v909n6crfwx0qjlps00000gn/T/ipykernel_43348/2462018467.py\u001B[0m in \u001B[0;36m<module>\u001B[0;34m\u001B[0m\n\u001B[1;32m      5\u001B[0m \u001B[0melbo\u001B[0m \u001B[0;34m=\u001B[0m \u001B[0mpyro\u001B[0m\u001B[0;34m.\u001B[0m\u001B[0minfer\u001B[0m\u001B[0;34m.\u001B[0m\u001B[0mTrace_ELBO\u001B[0m\u001B[0;34m(\u001B[0m\u001B[0;34m)\u001B[0m\u001B[0;34m\u001B[0m\u001B[0;34m\u001B[0m\u001B[0m\n\u001B[1;32m      6\u001B[0m \u001B[0msvi\u001B[0m \u001B[0;34m=\u001B[0m \u001B[0mpyro\u001B[0m\u001B[0;34m.\u001B[0m\u001B[0minfer\u001B[0m\u001B[0;34m.\u001B[0m\u001B[0mSVI\u001B[0m\u001B[0;34m(\u001B[0m\u001B[0mmodel\u001B[0m\u001B[0;34m,\u001B[0m \u001B[0mauto_guide\u001B[0m\u001B[0;34m,\u001B[0m \u001B[0madam\u001B[0m\u001B[0;34m,\u001B[0m \u001B[0melbo\u001B[0m\u001B[0;34m)\u001B[0m\u001B[0;34m\u001B[0m\u001B[0;34m\u001B[0m\u001B[0m\n\u001B[0;32m----> 7\u001B[0;31m \u001B[0mloss\u001B[0m \u001B[0;34m=\u001B[0m \u001B[0msvi\u001B[0m\u001B[0;34m.\u001B[0m\u001B[0mstep\u001B[0m\u001B[0;34m(\u001B[0m\u001B[0mX\u001B[0m\u001B[0;34m,\u001B[0m \u001B[0my\u001B[0m\u001B[0;34m)\u001B[0m\u001B[0;34m\u001B[0m\u001B[0;34m\u001B[0m\u001B[0m\n\u001B[0m",
      "\u001B[0;32m~/anaconda3/envs/pyro/lib/python3.9/site-packages/pyro/infer/svi.py\u001B[0m in \u001B[0;36mstep\u001B[0;34m(self, *args, **kwargs)\u001B[0m\n\u001B[1;32m    143\u001B[0m         \u001B[0;31m# get loss and compute gradients\u001B[0m\u001B[0;34m\u001B[0m\u001B[0;34m\u001B[0m\u001B[0m\n\u001B[1;32m    144\u001B[0m         \u001B[0;32mwith\u001B[0m \u001B[0mpoutine\u001B[0m\u001B[0;34m.\u001B[0m\u001B[0mtrace\u001B[0m\u001B[0;34m(\u001B[0m\u001B[0mparam_only\u001B[0m\u001B[0;34m=\u001B[0m\u001B[0;32mTrue\u001B[0m\u001B[0;34m)\u001B[0m \u001B[0;32mas\u001B[0m \u001B[0mparam_capture\u001B[0m\u001B[0;34m:\u001B[0m\u001B[0;34m\u001B[0m\u001B[0;34m\u001B[0m\u001B[0m\n\u001B[0;32m--> 145\u001B[0;31m             \u001B[0mloss\u001B[0m \u001B[0;34m=\u001B[0m \u001B[0mself\u001B[0m\u001B[0;34m.\u001B[0m\u001B[0mloss_and_grads\u001B[0m\u001B[0;34m(\u001B[0m\u001B[0mself\u001B[0m\u001B[0;34m.\u001B[0m\u001B[0mmodel\u001B[0m\u001B[0;34m,\u001B[0m \u001B[0mself\u001B[0m\u001B[0;34m.\u001B[0m\u001B[0mguide\u001B[0m\u001B[0;34m,\u001B[0m \u001B[0;34m*\u001B[0m\u001B[0margs\u001B[0m\u001B[0;34m,\u001B[0m \u001B[0;34m**\u001B[0m\u001B[0mkwargs\u001B[0m\u001B[0;34m)\u001B[0m\u001B[0;34m\u001B[0m\u001B[0;34m\u001B[0m\u001B[0m\n\u001B[0m\u001B[1;32m    146\u001B[0m \u001B[0;34m\u001B[0m\u001B[0m\n\u001B[1;32m    147\u001B[0m         params = set(\n",
      "\u001B[0;32m~/anaconda3/envs/pyro/lib/python3.9/site-packages/pyro/infer/trace_elbo.py\u001B[0m in \u001B[0;36mloss_and_grads\u001B[0;34m(self, model, guide, *args, **kwargs)\u001B[0m\n\u001B[1;32m    138\u001B[0m         \u001B[0mloss\u001B[0m \u001B[0;34m=\u001B[0m \u001B[0;36m0.0\u001B[0m\u001B[0;34m\u001B[0m\u001B[0;34m\u001B[0m\u001B[0m\n\u001B[1;32m    139\u001B[0m         \u001B[0;31m# grab a trace from the generator\u001B[0m\u001B[0;34m\u001B[0m\u001B[0;34m\u001B[0m\u001B[0m\n\u001B[0;32m--> 140\u001B[0;31m         \u001B[0;32mfor\u001B[0m \u001B[0mmodel_trace\u001B[0m\u001B[0;34m,\u001B[0m \u001B[0mguide_trace\u001B[0m \u001B[0;32min\u001B[0m \u001B[0mself\u001B[0m\u001B[0;34m.\u001B[0m\u001B[0m_get_traces\u001B[0m\u001B[0;34m(\u001B[0m\u001B[0mmodel\u001B[0m\u001B[0;34m,\u001B[0m \u001B[0mguide\u001B[0m\u001B[0;34m,\u001B[0m \u001B[0margs\u001B[0m\u001B[0;34m,\u001B[0m \u001B[0mkwargs\u001B[0m\u001B[0;34m)\u001B[0m\u001B[0;34m:\u001B[0m\u001B[0;34m\u001B[0m\u001B[0;34m\u001B[0m\u001B[0m\n\u001B[0m\u001B[1;32m    141\u001B[0m             loss_particle, surrogate_loss_particle = self._differentiable_loss_particle(\n\u001B[1;32m    142\u001B[0m                 \u001B[0mmodel_trace\u001B[0m\u001B[0;34m,\u001B[0m \u001B[0mguide_trace\u001B[0m\u001B[0;34m\u001B[0m\u001B[0;34m\u001B[0m\u001B[0m\n",
      "\u001B[0;32m~/anaconda3/envs/pyro/lib/python3.9/site-packages/pyro/infer/elbo.py\u001B[0m in \u001B[0;36m_get_traces\u001B[0;34m(self, model, guide, args, kwargs)\u001B[0m\n\u001B[1;32m    180\u001B[0m         \u001B[0;32melse\u001B[0m\u001B[0;34m:\u001B[0m\u001B[0;34m\u001B[0m\u001B[0;34m\u001B[0m\u001B[0m\n\u001B[1;32m    181\u001B[0m             \u001B[0;32mfor\u001B[0m \u001B[0mi\u001B[0m \u001B[0;32min\u001B[0m \u001B[0mrange\u001B[0m\u001B[0;34m(\u001B[0m\u001B[0mself\u001B[0m\u001B[0;34m.\u001B[0m\u001B[0mnum_particles\u001B[0m\u001B[0;34m)\u001B[0m\u001B[0;34m:\u001B[0m\u001B[0;34m\u001B[0m\u001B[0;34m\u001B[0m\u001B[0m\n\u001B[0;32m--> 182\u001B[0;31m                 \u001B[0;32myield\u001B[0m \u001B[0mself\u001B[0m\u001B[0;34m.\u001B[0m\u001B[0m_get_trace\u001B[0m\u001B[0;34m(\u001B[0m\u001B[0mmodel\u001B[0m\u001B[0;34m,\u001B[0m \u001B[0mguide\u001B[0m\u001B[0;34m,\u001B[0m \u001B[0margs\u001B[0m\u001B[0;34m,\u001B[0m \u001B[0mkwargs\u001B[0m\u001B[0;34m)\u001B[0m\u001B[0;34m\u001B[0m\u001B[0;34m\u001B[0m\u001B[0m\n\u001B[0m",
      "\u001B[0;32m~/anaconda3/envs/pyro/lib/python3.9/site-packages/pyro/infer/trace_elbo.py\u001B[0m in \u001B[0;36m_get_trace\u001B[0;34m(self, model, guide, args, kwargs)\u001B[0m\n\u001B[1;32m     55\u001B[0m         \u001B[0magainst\u001B[0m \u001B[0mit\u001B[0m\u001B[0;34m.\u001B[0m\u001B[0;34m\u001B[0m\u001B[0;34m\u001B[0m\u001B[0m\n\u001B[1;32m     56\u001B[0m         \"\"\"\n\u001B[0;32m---> 57\u001B[0;31m         model_trace, guide_trace = get_importance_trace(\n\u001B[0m\u001B[1;32m     58\u001B[0m             \u001B[0;34m\"flat\"\u001B[0m\u001B[0;34m,\u001B[0m \u001B[0mself\u001B[0m\u001B[0;34m.\u001B[0m\u001B[0mmax_plate_nesting\u001B[0m\u001B[0;34m,\u001B[0m \u001B[0mmodel\u001B[0m\u001B[0;34m,\u001B[0m \u001B[0mguide\u001B[0m\u001B[0;34m,\u001B[0m \u001B[0margs\u001B[0m\u001B[0;34m,\u001B[0m \u001B[0mkwargs\u001B[0m\u001B[0;34m\u001B[0m\u001B[0;34m\u001B[0m\u001B[0m\n\u001B[1;32m     59\u001B[0m         )\n",
      "\u001B[0;32m~/anaconda3/envs/pyro/lib/python3.9/site-packages/pyro/infer/enum.py\u001B[0m in \u001B[0;36mget_importance_trace\u001B[0;34m(graph_type, max_plate_nesting, model, guide, args, kwargs, detach)\u001B[0m\n\u001B[1;32m     78\u001B[0m         \u001B[0;32mfor\u001B[0m \u001B[0msite\u001B[0m \u001B[0;32min\u001B[0m \u001B[0mmodel_trace\u001B[0m\u001B[0;34m.\u001B[0m\u001B[0mnodes\u001B[0m\u001B[0;34m.\u001B[0m\u001B[0mvalues\u001B[0m\u001B[0;34m(\u001B[0m\u001B[0;34m)\u001B[0m\u001B[0;34m:\u001B[0m\u001B[0;34m\u001B[0m\u001B[0;34m\u001B[0m\u001B[0m\n\u001B[1;32m     79\u001B[0m             \u001B[0;32mif\u001B[0m \u001B[0msite\u001B[0m\u001B[0;34m[\u001B[0m\u001B[0;34m\"type\"\u001B[0m\u001B[0;34m]\u001B[0m \u001B[0;34m==\u001B[0m \u001B[0;34m\"sample\"\u001B[0m\u001B[0;34m:\u001B[0m\u001B[0;34m\u001B[0m\u001B[0;34m\u001B[0m\u001B[0m\n\u001B[0;32m---> 80\u001B[0;31m                 \u001B[0mcheck_site_shape\u001B[0m\u001B[0;34m(\u001B[0m\u001B[0msite\u001B[0m\u001B[0;34m,\u001B[0m \u001B[0mmax_plate_nesting\u001B[0m\u001B[0;34m)\u001B[0m\u001B[0;34m\u001B[0m\u001B[0;34m\u001B[0m\u001B[0m\n\u001B[0m\u001B[1;32m     81\u001B[0m         \u001B[0;32mfor\u001B[0m \u001B[0msite\u001B[0m \u001B[0;32min\u001B[0m \u001B[0mguide_trace\u001B[0m\u001B[0;34m.\u001B[0m\u001B[0mnodes\u001B[0m\u001B[0;34m.\u001B[0m\u001B[0mvalues\u001B[0m\u001B[0;34m(\u001B[0m\u001B[0;34m)\u001B[0m\u001B[0;34m:\u001B[0m\u001B[0;34m\u001B[0m\u001B[0;34m\u001B[0m\u001B[0m\n\u001B[1;32m     82\u001B[0m             \u001B[0;32mif\u001B[0m \u001B[0msite\u001B[0m\u001B[0;34m[\u001B[0m\u001B[0;34m\"type\"\u001B[0m\u001B[0;34m]\u001B[0m \u001B[0;34m==\u001B[0m \u001B[0;34m\"sample\"\u001B[0m\u001B[0;34m:\u001B[0m\u001B[0;34m\u001B[0m\u001B[0;34m\u001B[0m\u001B[0m\n",
      "\u001B[0;32m~/anaconda3/envs/pyro/lib/python3.9/site-packages/pyro/util.py\u001B[0m in \u001B[0;36mcheck_site_shape\u001B[0;34m(site, max_plate_nesting)\u001B[0m\n\u001B[1;32m    435\u001B[0m     ):\n\u001B[1;32m    436\u001B[0m         \u001B[0;32mif\u001B[0m \u001B[0mexpected_size\u001B[0m \u001B[0;34m!=\u001B[0m \u001B[0;34m-\u001B[0m\u001B[0;36m1\u001B[0m \u001B[0;32mand\u001B[0m \u001B[0mexpected_size\u001B[0m \u001B[0;34m!=\u001B[0m \u001B[0mactual_size\u001B[0m\u001B[0;34m:\u001B[0m\u001B[0;34m\u001B[0m\u001B[0;34m\u001B[0m\u001B[0m\n\u001B[0;32m--> 437\u001B[0;31m             raise ValueError(\n\u001B[0m\u001B[1;32m    438\u001B[0m                 \"\\n  \".join(\n\u001B[1;32m    439\u001B[0m                     [\n",
      "\u001B[0;31mValueError\u001B[0m: at site \"obs\", invalid log_prob shape\n  Expected [], actual [4]\n  Try one of the following fixes:\n  - enclose the batched tensor in a with pyro.plate(...): context\n  - .to_event(...) the distribution being sampled\n  - .permute() data dimensions"
     ]
    }
   ],
   "source": [
    "pyro.clear_param_store()\n",
    "auto_guide = pyro.infer.autoguide.AutoDelta(model)\n",
    "adam = pyro.optim.Adam({\"lr\": 0.02})  # Consider decreasing learning rate.\n",
    "#pyro.render_model(auto_guide, model_args=(X, y))\n",
    "elbo = pyro.infer.Trace_ELBO()\n",
    "svi = pyro.infer.SVI(model, auto_guide, adam, elbo)\n",
    "loss = svi.step(X, y)"
   ],
   "metadata": {
    "collapsed": false
   }
  },
  {
   "cell_type": "code",
   "execution_count": null,
   "outputs": [],
   "source": [],
   "metadata": {
    "collapsed": false
   }
  }
 ],
 "metadata": {
  "kernelspec": {
   "display_name": "Python 3",
   "language": "python",
   "name": "python3"
  },
  "language_info": {
   "codemirror_mode": {
    "name": "ipython",
    "version": 2
   },
   "file_extension": ".py",
   "mimetype": "text/x-python",
   "name": "python",
   "nbconvert_exporter": "python",
   "pygments_lexer": "ipython2",
   "version": "2.7.6"
  }
 },
 "nbformat": 4,
 "nbformat_minor": 0
}
