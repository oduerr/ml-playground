{
 "cells": [
  {
   "cell_type": "markdown",
   "metadata": {},
   "source": [
    "### Playing around with the parameter C"
   ]
  },
  {
   "cell_type": "code",
   "execution_count": 1,
   "metadata": {},
   "outputs": [],
   "source": [
    "import numpy as np\n",
    "import matplotlib.pyplot as plt\n",
    "from sklearn import svm\n",
    "from sklearn import preprocessing\n",
    "import random\n",
    "from sklearn.datasets import make_classification\n",
    "import numpy as np\n",
    "import matplotlib.pyplot as plt\n",
    "from matplotlib.colors import ListedColormap\n",
    "%matplotlib inline"
   ]
  },
  {
   "cell_type": "markdown",
   "metadata": {},
   "source": [
    "#### Creation of data\n",
    "We create 2 times 100 data points as follows:"
   ]
  },
  {
   "cell_type": "code",
   "execution_count": 2,
   "metadata": {},
   "outputs": [],
   "source": [
    "def get_random_data(outlyer_pos=2):\n",
    "    np.random.seed(1)\n",
    "    X, y = make_classification(n_samples=100, \n",
    "                           n_features=2, \n",
    "                           n_redundant=0, \n",
    "                           n_informative=2,\n",
    "                           random_state=1, \n",
    "                           n_clusters_per_class=1, \n",
    "                           class_sep=1.31)\n",
    "    X += 2.2 * np.random.uniform(size=X.shape) #Make them overlapp\n",
    "    n = np.shape(X)[0] # number of data points\n",
    "    y[y==0] = -1\n",
    "    return preprocessing.scale(X),y"
   ]
  },
  {
   "cell_type": "code",
   "execution_count": 3,
   "metadata": {},
   "outputs": [
    {
     "data": {
      "text/plain": [
       "<matplotlib.collections.PathCollection at 0x7fb67c434748>"
      ]
     },
     "execution_count": 3,
     "metadata": {},
     "output_type": "execute_result"
    },
    {
     "data": {
      "image/png": "[encoded data removed]",
      "text/plain": [
       "<Figure size 432x288 with 1 Axes>"
      ]
     },
     "metadata": {},
     "output_type": "display_data"
    }
   ],
   "source": [
    "X,y = get_random_data()\n",
    "plt.scatter(X[:,0],X[:,1],c=y)\n",
    "#plt.show()"
   ]
  },
  {
   "cell_type": "markdown",
   "metadata": {},
   "source": [
    "#### The meaning of the parameter C\n",
    "\n",
    "To get an idea about the meaning of the parameter C we look at the number of support vectors. The support vectors either lie on the wrong side or in the margin. So many support vectors indicate a large margin."
   ]
  },
  {
   "cell_type": "code",
   "execution_count": 4,
   "metadata": {},
   "outputs": [
    {
     "name": "stdout",
     "output_type": "stream",
     "text": [
      "C=0.001 number of SV=100\n",
      "C=0.01 number of SV=86\n",
      "C=0.1 number of SV=43\n",
      "C=1 number of SV=15\n",
      "C=10.0 number of SV=5\n",
      "C=100.0 number of SV=3\n",
      "C=10000000000.0 number of SV=3\n"
     ]
    }
   ],
   "source": [
    "for C in (1e-3, 1e-2, 1e-1, 1, 1e1,1e2,1e10):\n",
    "    svc = svm.SVC(kernel='linear', C=C).fit(X,y)\n",
    "    print('C={0} number of SV={1}'.format(C, len(svc.support_vectors_)))"
   ]
  },
  {
   "cell_type": "markdown",
   "metadata": {},
   "source": [
    "The larger the value C is the less SV. Hence with a rising C the margin gets smaller. This is consistent with  Elements of statistical learning and the slides. \n",
    "\n",
    "```\n",
    "The margin is larger for C = 0.01 than it is for C = 10, 000. p421\n",
    "```\n",
    "\n",
    "Further the dual form in http://scikit-learn.org/stable/modules/svm.html#svc and Eq. 12.13 in Elements of statistical learning look the same."
   ]
  },
  {
   "cell_type": "markdown",
   "metadata": {},
   "source": [
    "### Introducation to statistical learning\n",
    "The parameter C in the ISLR is different. They always try to maximize the margin M under the constrain $\\sum \\beta^2 = 1$ and do not set the margin width to 1 and then minimize $\\beta$.\n",
    "\n",
    "In the R example they also talk about a parameter `cost` which is same as the C above.\n"
   ]
  },
  {
   "cell_type": "markdown",
   "metadata": {},
   "source": [
    "## Animation"
   ]
  },
  {
   "cell_type": "code",
   "execution_count": 5,
   "metadata": {},
   "outputs": [],
   "source": [
    "# Plots the data and predictions\n",
    "# Code taken from: http://scikit-learn.org/stable/auto_examples/svm/plot_iris.html#sphx-glr-auto-examples-svm-plot-iris-py\n",
    "def plot_preds(clf, X, y):\n",
    "    h = .02\n",
    "    x_min, x_max = X[:, 0].min() - 0.1, X[:, 0].max() + 0.1\n",
    "    y_min, y_max = X[:, 1].min() - 0.1, X[:, 1].max() + 0.1\n",
    "    xx, yy = np.meshgrid(np.arange(x_min, x_max, h), np.arange(y_min, y_max, h))\n",
    "    \n",
    "    ## plotting the prediction \n",
    "    Z = clf.predict(np.c_[xx.ravel(), yy.ravel()])\n",
    "    # Put the result into a color plot\n",
    "    Z = Z.reshape(xx.shape)\n",
    "    plt.clf()\n",
    "    plt.contourf(xx, yy, Z, cmap=plt.cm.coolwarm, alpha=0.5)    \n",
    "    \n",
    "    w = clf.coef_[0]\n",
    "    a = -w[0] / w[1]\n",
    "    margin = 1 / np.sqrt(np.sum(clf.coef_ ** 2))\n",
    "    x_m = np.linspace(-5, 5)\n",
    "    y_m = a * x_m - (clf.intercept_[0]) / w[1]\n",
    "    yy_down = y_m + a * margin\n",
    "    yy_up = y_m - a * margin\n",
    "\n",
    "    plt.plot(x_m, y_m, 'k-')\n",
    "    plt.plot(x_m, yy_down, 'k--')\n",
    "    plt.plot(x_m, yy_up, 'k--')\n",
    "    \n",
    "    # Plot also the training points\n",
    "    plt.scatter(X[:, 0], X[:, 1], c=y, cmap=plt.cm.coolwarm)\n",
    "    plt.xlim(xx.min(), xx.max())\n",
    "    plt.ylim(yy.min(), yy.max())\n",
    "    \n",
    "    plt.title(\"Num SV {}\".format(len(clf.support_vectors_)))"
   ]
  },
  {
   "cell_type": "code",
   "execution_count": 6,
   "metadata": {},
   "outputs": [
    {
     "data": {
      "application/vnd.jupyter.widget-view+json": {
       "model_id": "d10767b95281448a825a84c04b26eed9",
       "version_major": 2,
       "version_minor": 0
      },
      "text/plain": [
       "interactive(children=(FloatSlider(value=74.6, description='C', max=150.0, min=0.1, step=0.5), Output()), _dom_…"
      ]
     },
     "metadata": {},
     "output_type": "display_data"
    },
    {
     "data": {
      "text/plain": [
       "<function __main__.plot_func(C)>"
      ]
     },
     "execution_count": 6,
     "metadata": {},
     "output_type": "execute_result"
    }
   ],
   "source": [
    "from ipywidgets import *\n",
    "\n",
    "def plot_func(C):\n",
    "    clf = svm.SVC(kernel='linear', C=C)\n",
    "    clf.fit(X=X, y=y)\n",
    "    plot_preds(clf, X, y)\n",
    "\n",
    "interact(plot_func, \n",
    "         C=(0.1,150,0.5)\n",
    "         #out=FloatSlider(value=1, min=-3, max=3, step=0.5)\n",
    "        )"
   ]
  },
  {
   "cell_type": "markdown",
   "metadata": {},
   "source": [
    "### Going into detail: Fitting a Support Vector Machine\n",
    "\n",
    "We fit the the SVM and look into details"
   ]
  },
  {
   "cell_type": "code",
   "execution_count": 7,
   "metadata": {},
   "outputs": [],
   "source": [
    "C = 10000000000.0\n",
    "svc = svm.SVC(kernel='linear', C=C, probability=True).fit(X,y)"
   ]
  },
  {
   "cell_type": "markdown",
   "metadata": {},
   "source": [
    "$$f(x) = \\sum_{i=0}^N \\alpha_i y_i k(x_i,x) + b$$"
   ]
  },
  {
   "cell_type": "code",
   "execution_count": 8,
   "metadata": {},
   "outputs": [
    {
     "data": {
      "text/plain": [
       "array([[ 0.17811277, -0.78366386],\n",
       "       [-0.17637016, -1.86705896],\n",
       "       [ 0.05814363,  1.16289231]])"
      ]
     },
     "execution_count": 8,
     "metadata": {},
     "output_type": "execute_result"
    }
   ],
   "source": [
    "svc.support_vectors_"
   ]
  },
  {
   "cell_type": "code",
   "execution_count": 9,
   "metadata": {},
   "outputs": [
    {
     "name": "stdout",
     "output_type": "stream",
     "text": [
      "[[-27.45714668  17.45083386  10.00631282]]\n",
      "[0.76431344]\n"
     ]
    }
   ],
   "source": [
    "print(svc.dual_coef_)     #This is alpha*y_i\n",
    "print(svc.intercept_)     #This is b"
   ]
  },
  {
   "cell_type": "code",
   "execution_count": 10,
   "metadata": {},
   "outputs": [],
   "source": [
    "def getDecission(sv, yalphas, b, x):\n",
    "    summ = 0\n",
    "    for i in range(np.shape(sv)[0]):\n",
    "        summ += yalphas[0,i] * (np.dot(sv[i],x))\n",
    "    return summ + b"
   ]
  },
  {
   "cell_type": "code",
   "execution_count": 11,
   "metadata": {},
   "outputs": [
    {
     "name": "stdout",
     "output_type": "stream",
     "text": [
      "-2.0 [-0.37909026] [-1]\n",
      "-1.7142857142857144 [-0.21574688] [-1]\n",
      "-1.4285714285714286 [-0.05240349] [-1]\n",
      "-1.1428571428571428 [0.1109399] [1]\n",
      "-0.8571428571428572 [0.27428328] [1]\n",
      "-0.5714285714285716 [0.43762667] [1]\n",
      "-0.2857142857142858 [0.60097005] [1]\n",
      "0.0 [0.76431344] [1]\n",
      "0.2857142857142856 [0.92765683] [1]\n",
      "0.5714285714285712 [1.09100021] [1]\n",
      "0.8571428571428568 [1.2543436] [1]\n",
      "1.1428571428571428 [1.41768698] [1]\n",
      "1.4285714285714284 [1.58103037] [1]\n",
      "1.714285714285714 [1.74437375] [1]\n",
      "2.0 [1.90771714] [1]\n"
     ]
    }
   ],
   "source": [
    "for x in np.linspace(-2,2,15):\n",
    "    print(x, getDecission(svc.support_vectors_, svc.dual_coef_, svc.intercept_, np.asarray([0,x]))\n",
    "          ,svc.predict(np.asarray([[0,x]])))"
   ]
  }
 ],
 "metadata": {
  "kernelspec": {
   "display_name": "Python 3",
   "language": "python",
   "name": "python3"
  },
  "language_info": {
   "codemirror_mode": {
    "name": "ipython",
    "version": 3
   },
   "file_extension": ".py",
   "mimetype": "text/x-python",
   "name": "python",
   "nbconvert_exporter": "python",
   "pygments_lexer": "ipython3",
   "version": "3.5.2"
  },
  "widgets": {
   "state": {
    "017fa58d2a204d7482489bce0384b575": {
     "views": [
      {
       "cell_index": 10
      }
     ]
    }
   },
   "version": "1.2.0"
  }
 },
 "nbformat": 4,
 "nbformat_minor": 1
}
